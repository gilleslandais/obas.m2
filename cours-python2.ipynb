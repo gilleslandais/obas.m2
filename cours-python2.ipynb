{
 "cells": [
  {
   "cell_type": "markdown",
   "metadata": {},
   "source": [
    "# Introduction to Python for astronomy\n",
    "\n",
    "Gilles Landais : gilles.landais@unistra.fr\n",
    "\n",
    "## Second  lesson :  \n",
    "\n",
    "Plan:\n",
    "1. Using modules\n",
    "2. Variables scope\n",
    "3. Collections (next..)\n",
    "4. Manage exceptions\n",
    "5. Interact with external data"
   ]
  },
  {
   "cell_type": "markdown",
   "metadata": {
    "collapsed": true
   },
   "source": [
    "-------------------------------------------\n",
    "## 1. Using modules/libraries\n",
    "\n",
    "A module or library is a set of functions, classes, definitions.. \n",
    "\n",
    "- A module is a library: it can be included into an other script\n",
    "- A module gathers features having a common topic\n",
    "\n",
    "### What is a Python module ?\n",
    "\n",
    "&rarr; a module is a script(= file) or a set of files in a directory written in python which can be used by other scripts\n",
    "\n",
    "**Warning**: when a module B is loaded in a script A, the module B (which is a file) is executed! So a module should **not** contains others things that functions, classes or constants: **it is recommended to avoid writing codes outside function, classes and the main bloc**\n",
    "\n",
    "The **main** is the bloc which is executed when the script is started. However, the main of an imported module is **not** executed.\n",
    "\n",
    "So when a program starts, it will load modules which could contain other main blocs, but only one is executed!\n",
    "\n",
    "Example of a file containing a main bloc:"
   ]
  },
  {
   "cell_type": "code",
   "execution_count": null,
   "metadata": {
    "collapsed": true
   },
   "outputs": [],
   "source": [
    "#!/usr/bin/env python\n",
    "\n",
    "'''\n",
    "....\n",
    "....\n",
    "'''\n",
    "\n",
    "if __name__ == \"__main__\":\n",
    "    print (\"Begin main\")"
   ]
  },
  {
   "cell_type": "markdown",
   "metadata": {},
   "source": [
    "#### Where  are the modules ?\n",
    "Using (or importimg) a module requires that the script/module is in the Python path or in the current directory. \n",
    "Each Python installation contains a default PYTHONPATH which can be enriched with directories containing python scripts.\n",
    "\n",
    "You can add other directories to the Python path with the Environment variable PYTHONPATH.\n",
    "\n",
    "On Unix/Linux OS (with bash SHELL):\n",
    "\n",
    "<pre>export PYTHONPATH=/home/python:/lib/python</pre>"
   ]
  },
  {
   "cell_type": "markdown",
   "metadata": {},
   "source": [
    "### Import modules\n",
    "\n",
    "**Example of modules**\n",
    "- math : gather mathematics features\n",
    "- os: (operating system library) contains functionalities to access files, environment, (Unix) commands...\n",
    "- time: to manipulate date/time \n",
    "- io: to manage input/output : read/write files, pipes ...\n",
    "- httplib: an interface to deal with HTTP protocol: access URL ..\n",
    "\n",
    "**Example of functions available in the math module**\n",
    "\n",
    "function | Description \n",
    "---------|-------------\n",
    "factorial(n) | factorial function\n",
    "floor(f) | the integer value \n",
    "exp(f) | exponent function \n",
    "log(f) | natural logarithm \n",
    "pow(v,n) | the power function \n",
    "acos(rad)| cosinus \n",
    "math.pi | the $\\pi$ number \n",
    "\n",
    "see also the help function"
   ]
  },
  {
   "cell_type": "code",
   "execution_count": null,
   "metadata": {
    "collapsed": true
   },
   "outputs": [],
   "source": [
    "help(\"math\")"
   ]
  },
  {
   "cell_type": "markdown",
   "metadata": {},
   "source": [
    "Modules are loaded with the instruction **import**. In general the imports instructions are in the begining of the file. \n",
    "\n",
    "Then you get access to the module functionnalities with adding the module name before the resource:\n",
    "\n",
    "example: module.function(...)"
   ]
  },
  {
   "cell_type": "code",
   "execution_count": null,
   "metadata": {
    "collapsed": true
   },
   "outputs": [],
   "source": [
    "#!/usr/bin/env python\n",
    "import math\n",
    "\n",
    "print ('power(2,2)', math.pow(2, 2))"
   ]
  },
  {
   "cell_type": "markdown",
   "metadata": {},
   "source": [
    "You can also specify a subset of a module: a subset, a class or a function for instance."
   ]
  },
  {
   "cell_type": "code",
   "execution_count": 8,
   "metadata": {
    "collapsed": true
   },
   "outputs": [],
   "source": [
    "import urllib.request"
   ]
  },
  {
   "cell_type": "markdown",
   "metadata": {},
   "source": [
    "Python enables to assign an alias to the module."
   ]
  },
  {
   "cell_type": "code",
   "execution_count": null,
   "metadata": {
    "collapsed": true
   },
   "outputs": [],
   "source": [
    "#!/usr/bin/env python\n",
    "import math as M\n",
    "\n",
    "print ('power(2,2)', M.pow(2, 2))"
   ]
  },
  {
   "cell_type": "markdown",
   "metadata": {},
   "source": [
    "To avoid to write the module or the alias"
   ]
  },
  {
   "cell_type": "code",
   "execution_count": null,
   "metadata": {
    "collapsed": true
   },
   "outputs": [],
   "source": [
    "from math import *\n",
    "print ('power(2,2)', pow(2, 2))"
   ]
  },
  {
   "cell_type": "code",
   "execution_count": null,
   "metadata": {
    "collapsed": true
   },
   "outputs": [],
   "source": [
    "# or to include just the pow function\n",
    "from math import pow"
   ]
  },
  {
   "cell_type": "markdown",
   "metadata": {},
   "source": [
    "### Interacts with the OS and filesystem\n",
    "the *os* module gathers functionalities to access the System.\n",
    "\n",
    "Example of functions:\n",
    "\n",
    "Function | Description\n",
    "---------|------------\n",
    "os.getcwd()| get the current directory\n",
    "os.chdir(path) | modify the current directory\n",
    "os.stat(path) | get file/path information\n",
    "os.chmod(path,mode) | change the path rights\n",
    "os.listdir(path)| lists the files/directories in a directory\n",
    "os.path.exists(file) | test the file existence\n",
    "... | \n",
    "\n",
    "The *os* module enables also to open file or to execute commands"
   ]
  },
  {
   "cell_type": "code",
   "execution_count": null,
   "metadata": {
    "collapsed": true
   },
   "outputs": [],
   "source": [
    "#!/usr/bin/python\n",
    "import os\n",
    "print (os.getcwd())\n",
    "ls = os.listdir(\".\")\n",
    "for f in ls:\n",
    "        print (f)"
   ]
  },
  {
   "cell_type": "markdown",
   "metadata": {},
   "source": [
    "--------------------------\n",
    "## 2.Variables scope\n",
    "\n",
    "There are 2 types of variables:\n",
    "- **local** variable is defined in a bloc. It is **only** available in the bloc (and sub blocs..)\n",
    "- **global** variable is defined outside any blocs. Global variables are available in the full code\n",
    "\n",
    "**Warning** Python variable are not declared but initialized.\n",
    "- a variable has a definitiv type\n",
    "- if a same variable (with the same name) is reused for an other type, then Python destroys the memory of the previous intialisation to assign a new place in memory!\n",
    "\n",
    "**Example** of variable used in a test before (upper in the file) its initialization"
   ]
  },
  {
   "cell_type": "code",
   "execution_count": null,
   "metadata": {
    "collapsed": true
   },
   "outputs": [],
   "source": [
    "is_set = False\n",
    "while True:\n",
    "    if is_set is True:\n",
    "        print (message)\n",
    "        break\n",
    "        \n",
    "    else:\n",
    "        s = input(\"?\")\n",
    "        if len(s)>1:\n",
    "            message = s\n",
    "        is_set = True"
   ]
  },
  {
   "cell_type": "markdown",
   "metadata": {},
   "source": [
    "### local variables\n",
    "- a variable is local when it is initialized inside a bloc (a function, a test ...)\n",
    "- function has got its own *namespace*. Consequently, the same variable name can be used in different place and for different purposes\n",
    "\n",
    "**Example** in the code the name *i* is used in the main bloc and in a function, but the value of the variable *i* in the main bloc is not updated by the fonction."
   ]
  },
  {
   "cell_type": "code",
   "execution_count": null,
   "metadata": {
    "collapsed": true
   },
   "outputs": [],
   "source": [
    "from math import pow\n",
    "\n",
    "def print_geom_serie(q,n):\n",
    "    u, i = 0, 0\n",
    "    for i in range(n+1):\n",
    "        u = u+pow(q,i)\n",
    "        print (\"geom(\",q,\",\",i,\")=\",u)\n",
    "\n",
    "if __name__== \"__main__\":\n",
    "    for i in range(2,4):\n",
    "        print_geom_serie(i,10)"
   ]
  },
  {
   "cell_type": "markdown",
   "metadata": {},
   "source": [
    "### Global variables\n",
    "- a variable is global when it is initialized outside any blocs\n",
    "- the value of the global variable is available everywhere\n",
    "- function **can't modify the global value**\n",
    "- to force the write mode of a global variable in a function, use the keyword **global**\n",
    "\n",
    "**WARNING** the usage of global variable is discouraged!\n",
    "\n",
    "global variable seem to be user-friendly: it avoids to pass variables in parameters. However, global variables attempt to have unmaintanable code. This is obviously more easy to follow a variable modification  when its scope is limited"
   ]
  },
  {
   "cell_type": "code",
   "execution_count": null,
   "metadata": {
    "collapsed": true
   },
   "outputs": [],
   "source": [
    "#!/usr/bin/python\n",
    "\n",
    "varglobal=1\n",
    "\n",
    "def fonction_test():\n",
    "    print (\"variable globale =\",varglobal)\n",
    "\n",
    "while varglobal<10:\n",
    "    fonction_test()\n",
    "    varglobal+=1"
   ]
  },
  {
   "cell_type": "code",
   "execution_count": null,
   "metadata": {
    "collapsed": true
   },
   "outputs": [],
   "source": [
    "varglobal=1\n",
    "\n",
    "def fonction_test():\n",
    "    #global varglobal\n",
    "    varglobal+=1\n",
    "    print (\"variable globale =\",varglobal)\n",
    "\n",
    "while varglobal<10:\n",
    "    fonction_test()"
   ]
  },
  {
   "cell_type": "markdown",
   "metadata": {},
   "source": [
    "### Operation depends of the variable type\n"
   ]
  },
  {
   "cell_type": "code",
   "execution_count": null,
   "metadata": {
    "collapsed": true
   },
   "outputs": [],
   "source": [
    "s = input(\"Enter a number?\")\n",
    "s = s + 1 #fails"
   ]
  },
  {
   "cell_type": "markdown",
   "metadata": {},
   "source": [
    "### cast \n",
    "in the upper example, the correction could consist to transform value into the good type using the *int()* function"
   ]
  },
  {
   "cell_type": "code",
   "execution_count": null,
   "metadata": {
    "collapsed": true
   },
   "outputs": [],
   "source": [
    "while True:\n",
    "    try:\n",
    "        s = float(input(\"Enter a float?\"))\n",
    "        break\n",
    "    except:\n",
    "        print(\"error\")  \n",
    "  "
   ]
  },
  {
   "cell_type": "markdown",
   "metadata": {},
   "source": [
    "--------------------------------------\n",
    "## 3. Collections\n",
    "\n",
    "- A collection gathers data which could have different types\n",
    "- there are 3 differents types of collections\n",
    "    - the lists\n",
    "    - the tuples\n",
    "    - the dictionnaries"
   ]
  },
  {
   "cell_type": "markdown",
   "metadata": {},
   "source": [
    "### Lists\n",
    "- collection of elements which can have different types. \n",
    "- lists are dynamic: elements can be added, modified or removed (note: adding an element is not possible in C-language)\n",
    "\n",
    "#### Access elements"
   ]
  },
  {
   "cell_type": "code",
   "execution_count": null,
   "metadata": {
    "collapsed": true
   },
   "outputs": [],
   "source": [
    "list = [2, 4, 78, 2, 3]\n",
    "print (list[0])  # print the first element\n",
    "print (list[-1]) # print the last element"
   ]
  },
  {
   "cell_type": "markdown",
   "metadata": {},
   "source": [
    "#### Modify a list"
   ]
  },
  {
   "cell_type": "code",
   "execution_count": null,
   "metadata": {
    "collapsed": true
   },
   "outputs": [],
   "source": [
    "list.append(-1) # add -1 in the end of the list\n",
    "list[0] = -2 # modify the value of the first element\n",
    "print (list) \n",
    "\n",
    "print (list[1:3]) # print a list begining with the 2d elemnt and with the 3rd element \n",
    "print (list[2:]) # print a list begining from the 3d element to the end\n",
    "print (list[:2]) # print the 3d first element\n",
    "\n",
    "list[2:2] = [9,\"test\"] # insert element to the 3rd position\n",
    "print (list)\n",
    "list.remove(2) # remove element with value =2\n",
    "print(list)"
   ]
  },
  {
   "cell_type": "markdown",
   "metadata": {},
   "source": [
    "#### Operation on list\n",
    "\n",
    "Methods | Description\n",
    "--------|------------\n",
    "liste.sort() | sort the list\n",
    "list.append() | add element to the end\n",
    "liste.reverse() | invert the list\n",
    "liste.index(value) | get the indice of the first element having the value \n",
    "\n",
    "Some functions:\n",
    "\n",
    "Function | Description\n",
    "---------|------------\n",
    "del(element) | remove an element\n",
    "len(liste) | number of elements\n",
    "max(liste) | get the max value\n",
    "min(liste) | get the min value\n",
    "\n",
    "**Example**:"
   ]
  },
  {
   "cell_type": "code",
   "execution_count": null,
   "metadata": {
    "collapsed": true
   },
   "outputs": [],
   "source": [
    "liste = [2, 4, 78, 2, 3, 0, 1]\n",
    "\n",
    "del(liste[2])\n",
    "print(liste)"
   ]
  },
  {
   "cell_type": "code",
   "execution_count": null,
   "metadata": {
    "collapsed": true
   },
   "outputs": [],
   "source": [
    "list = [2, 4, 78, 2, 3, 0, 1]\n",
    "print (len(list))\n",
    "del(list[0])   # remove first element\n",
    "del(list[1:3]) # remove the 2d and 3d element\n",
    "print (list)"
   ]
  },
  {
   "cell_type": "markdown",
   "metadata": {},
   "source": [
    "**concatenate lists** with the + operator"
   ]
  },
  {
   "cell_type": "code",
   "execution_count": null,
   "metadata": {
    "collapsed": true
   },
   "outputs": [],
   "source": [
    "list1 = [\"gilles\", \"ludovic\", \"Helene\"]\n",
    "list2 = [\"Pierre\", \"Lucile\", \"Ema\"]\n",
    "list = list1+list2\n",
    "print (list)"
   ]
  },
  {
   "cell_type": "markdown",
   "metadata": {},
   "source": [
    "**Test existence of an element** with keyword **in**"
   ]
  },
  {
   "cell_type": "code",
   "execution_count": null,
   "metadata": {
    "collapsed": true
   },
   "outputs": [],
   "source": [
    "list = [\"gilles\", \"ludovic\", \"Helene\"]\n",
    "name = \"Lucile\"\n",
    "if  name in list:\n",
    "    print (name, \" is in the list\")"
   ]
  },
  {
   "cell_type": "markdown",
   "metadata": {},
   "source": [
    "**Initialize a list** "
   ]
  },
  {
   "cell_type": "code",
   "execution_count": null,
   "metadata": {
    "collapsed": true
   },
   "outputs": [],
   "source": [
    "listinteger = [0]*10\n",
    "listinteger2 = range(0,10)"
   ]
  },
  {
   "cell_type": "markdown",
   "metadata": {},
   "source": [
    "**Iterate a list** with a loop *for*"
   ]
  },
  {
   "cell_type": "code",
   "execution_count": null,
   "metadata": {
    "collapsed": true
   },
   "outputs": [],
   "source": [
    "for name in list1:\n",
    "    print (name)"
   ]
  },
  {
   "cell_type": "markdown",
   "metadata": {},
   "source": [
    "**Copy a list**\n",
    "\n",
    "a simple assignment doesn't work !"
   ]
  },
  {
   "cell_type": "code",
   "execution_count": null,
   "metadata": {
    "collapsed": true
   },
   "outputs": [],
   "source": [
    "list = [1.1, 3.2, 6.71, -1.23]\n",
    "new_list = list # new_list is a variable which point to the same memeory than list\n",
    "new_list[0] = 0\n",
    "print (list) #list had been modified"
   ]
  },
  {
   "cell_type": "code",
   "execution_count": null,
   "metadata": {
    "collapsed": true
   },
   "outputs": [],
   "source": [
    "list = [1.1, 3.2, 6.71, -1.23]\n",
    "new_list = list[0:] # create a new list composed by the same values but NOT in the same memory\n",
    "new_list[0] = 0\n",
    "print (list) # original list had not been modified!"
   ]
  },
  {
   "cell_type": "markdown",
   "metadata": {},
   "source": [
    "#### Table creation for adavanced python-user\n",
    "\n",
    "e.g: generate list composed by square root of even number"
   ]
  },
  {
   "cell_type": "code",
   "execution_count": 28,
   "metadata": {
    "collapsed": false
   },
   "outputs": [
    {
     "name": "stdout",
     "output_type": "stream",
     "text": [
      "[0.0, 1.4142135623730951, 2.0, 2.449489742783178, 2.8284271247461903]\n"
     ]
    }
   ],
   "source": [
    "import math\n",
    "\n",
    "even_sqrt = []\n",
    "for i in range(10):\n",
    "    if i%2 == 0: even_sqrt.append(math.sqrt(i))\n",
    "print(even_sqrt)"
   ]
  },
  {
   "cell_type": "markdown",
   "metadata": {},
   "source": [
    "For advancer python-user (more efficient)"
   ]
  },
  {
   "cell_type": "code",
   "execution_count": 22,
   "metadata": {
    "collapsed": false
   },
   "outputs": [
    {
     "name": "stdout",
     "output_type": "stream",
     "text": [
      "[0.0, 1.4142135623730951, 2.0, 2.449489742783178, 2.8284271247461903]\n"
     ]
    }
   ],
   "source": [
    "even_sqrt = [math.sqrt(i) for i in range(10) if i%2==0]\n",
    "print (even_sqrt)"
   ]
  },
  {
   "cell_type": "markdown",
   "metadata": {},
   "source": [
    "### Tuples\n",
    "- tuples are collections **not** updatable\n",
    "- access, iteration are similar to list operation "
   ]
  },
  {
   "cell_type": "code",
   "execution_count": null,
   "metadata": {
    "collapsed": true
   },
   "outputs": [],
   "source": [
    "mytuple = (1, 4, 5.5) # tuple initialization uses in () "
   ]
  },
  {
   "cell_type": "markdown",
   "metadata": {},
   "source": [
    "### Dictionaries\n",
    "\n",
    "or Hash table (in Java)\n",
    "\n",
    "- a set of objects indexed with a keyword (every type are accepted in Python)\n",
    "- quick search in O(1): the efficiency of the search depends of the hash function\n",
    "\n",
    "Example of hash function: \n",
    "- the modulo function for an integer list\n",
    "- the firstname in a dictionnay of human having firstname, lastname, tel number, etc.. "
   ]
  },
  {
   "cell_type": "code",
   "execution_count": null,
   "metadata": {
    "collapsed": true
   },
   "outputs": [],
   "source": [
    "dico = {}  # create a dictionary\n",
    "dico[\"computer\"] = \"ordinateur\" # add an element value=ordinator and key=computer\n",
    "dico[\"mouse\"] = \"souris\"        # add an other element\n",
    "print (dico[\"computer\"])        # print the value in the dictionary iondexed with key=computer"
   ]
  },
  {
   "cell_type": "code",
   "execution_count": null,
   "metadata": {
    "collapsed": true
   },
   "outputs": [],
   "source": [
    "# direct intialisation\n",
    "dico = {'computer': 'ordinateur', 'keyboard': 'clavier', 'mouse': 'souris'}\n",
    "print(dico)\n",
    "\n",
    "if 'computer' in dico:\n",
    "    print(dico['computer'])\n",
    "\n",
    "for key in dico.items():\n",
    "    print (\"key:{}, value={}\".format(key[0], key[1]))"
   ]
  },
  {
   "cell_type": "markdown",
   "metadata": {},
   "source": [
    "Some methods and functions\n",
    "\n",
    "Function    | Description\n",
    "------------|------------------\n",
    "dico.keys() | returns the list of keys\n",
    "dico.values() | returns the list of values\n",
    "dico.items() | returns a list of tuple (key, value)\n",
    "dico.has_key(object) | tests if object is a key of the dictionary\n",
    "dico.copy() | copy to a new variable\n",
    "del(elemnt)  | remove the element with key=elt"
   ]
  },
  {
   "cell_type": "markdown",
   "metadata": {},
   "source": [
    "### Work with complex structures\n",
    "Complex structure are object composed by combination of different type/collection\n",
    "\n",
    "**Example**"
   ]
  },
  {
   "cell_type": "code",
   "execution_count": null,
   "metadata": {
    "collapsed": true
   },
   "outputs": [],
   "source": [
    "dico = {'landais':[{'prenom':'gilles', 'age':37},\n",
    "                   {'prenom':'helyonne', 'age':5}],\n",
    "        'helbert':{'prenom':'pierre', 'age':35}}\n",
    "print (dico['landais'][0]['prenom'])\n",
    "print (dico)"
   ]
  },
  {
   "cell_type": "markdown",
   "metadata": {},
   "source": [
    "--------------------------------------------\n",
    "## 4. Exception management\n",
    "\n",
    "When Python detects an error (for example open a file which doesn't exist) the script is interrupted (with a return code >0).\n",
    "\n",
    "However, Python is an Object language which supports the exception management.\n",
    "\n",
    "In practice, when an error is encountered, Python generates an **Exception**: we say to **throw an Exception**.\n",
    "\n",
    "Then, it is possible to **catch Exception**. When an exception is caught, the process is not interrupted and the developper can write an appropriate code.\n",
    "\n",
    "Example of Exception:\n",
    "- a file doesn't exist\n",
    "- the End of the file is detected\n",
    "- a variable has not the good type\n",
    "- variable doesn't exist\n",
    "- ...\n",
    "\n",
    "We use the keywords:\n",
    "- **try** to begin a bloc having a potential exception\n",
    "- **except** to finish a bloc with the exception\n"
   ]
  },
  {
   "cell_type": "code",
   "execution_count": null,
   "metadata": {
    "collapsed": true
   },
   "outputs": [],
   "source": [
    "import sys \n",
    "a = input(\"Enter a number\")\n",
    "try:\n",
    "    i = int(a)\n",
    "except ValueError as e:\n",
    "    sys.stderr.write (str(e)+\"\\n\")\n",
    "    exit(1)\n",
    "\n",
    "exit(0)"
   ]
  },
  {
   "cell_type": "markdown",
   "metadata": {},
   "source": [
    "To catch all exception"
   ]
  },
  {
   "cell_type": "code",
   "execution_count": null,
   "metadata": {
    "collapsed": true
   },
   "outputs": [],
   "source": [
    "import sys\n",
    "a = input(\"Enter a number\")\n",
    "try:\n",
    "    i = int(a)\n",
    "except :\n",
    "    raise Exception(\"error !!!!!\")"
   ]
  },
  {
   "cell_type": "markdown",
   "metadata": {},
   "source": [
    "**To throw is own Exception**  with the keyword **raise**\n",
    "\n",
    "**Note**: to throw Exception is often better than to return a code error"
   ]
  },
  {
   "cell_type": "markdown",
   "metadata": {},
   "source": [
    "----------------------------------------------------\n",
    "## 5. Interact with external data"
   ]
  },
  {
   "cell_type": "markdown",
   "metadata": {},
   "source": [
    "Example of interaction :\n",
    "- give parameters to a program : (example : the UNIX command 'ls' : ls -al)\n",
    "- write/read a file\n",
    "- interacts with STDIN/STDOUT/STDERR\n",
    "- interacts with an external program\n",
    "- interacts with URL/Sockets\n",
    "- interacts with a database (sgbd)\n",
    "...\n",
    "\n"
   ]
  },
  {
   "cell_type": "markdown",
   "metadata": {},
   "source": [
    "### Give parameters to a program\n",
    "Example: ls -al\n",
    "\n",
    "parametes are set into an array **sys.argv**.\n",
    "The first element is the program name.\n"
   ]
  },
  {
   "cell_type": "code",
   "execution_count": null,
   "metadata": {
    "collapsed": true
   },
   "outputs": [],
   "source": [
    "import sys\n",
    "print (len(sys.argv))\n",
    "for arg in sys.argv:\n",
    "    print (arg)"
   ]
  },
  {
   "cell_type": "markdown",
   "metadata": {},
   "source": [
    "**Note:** the upper code is executed into Jupyter notebook and print the parameters given when jupyter was started. You can try the same code in a script and executes it and observe the result.\n",
    "\n",
    "ex: <pre>python myprog.py -h -a test </pre>"
   ]
  },
  {
   "cell_type": "markdown",
   "metadata": {},
   "source": [
    "### Interacts with STDIN\n",
    "\n",
    "The folowing code uses the function *input()* to read the data in STDIN. This code could be executed in a pipe command like:\n",
    "\n",
    "<pre>cat fichier | ./myprog.py</pre>"
   ]
  },
  {
   "cell_type": "markdown",
   "metadata": {},
   "source": [
    "<pre>\n",
    "#!/usr/bin/env python\n",
    "nblines = 0\n",
    "\n",
    "try:\n",
    "    while True:\n",
    "        a = input()\n",
    "        nblines += 1\n",
    "except:\n",
    "    print (\"fin (EOF) ou erreur\")\n",
    "    print (\"read\", nblines, \"lines\")\n",
    "</pre>"
   ]
  },
  {
   "cell_type": "markdown",
   "metadata": {},
   "source": [
    "### Reading, writing files in Python\n",
    "- reading a file is a process with a *cursor* which moves in the file.\n",
    "\n",
    "The common cursor moves characters by characters starting at the begining to the end.\n",
    "\n",
    "- acces a file (for read or write) requires to open the file with the function *io.open*. The function  creates a *file descriptor* which is an object containing information like the place where is the cursor.\n",
    "    <pre> file_descriptor = open(filename[, mode, [option]])\n",
    "    </pre>\n",
    "  \n",
    "    - *mode*: is the mode access: \n",
    "    \n",
    "Mode | Description\n",
    "----|------------------\n",
    "'r' | read \n",
    "'w' | write (create a new file)\n",
    "'a' | append an existent file and write in the end of the file\n",
    "'rw+'| acces the file in read an write mode\n",
    "\n",
    "   - *option*: buffering option for read/write mode (more in lesson 3)\n",
    "    \n",
    "\n",
    "- when finish, the file must be closed with the method *close()*\n",
    "\n",
    "A file descriptor uses memory and the number of open file is sometimes limited by the system, so it is important to close the file !"
   ]
  },
  {
   "cell_type": "code",
   "execution_count": null,
   "metadata": {
    "collapsed": true
   },
   "outputs": [],
   "source": [
    "# write a file\n",
    "try:\n",
    "    fd = open(\"fichier.txt\", 'w') # open file in write mode\n",
    "    fd.write(\"File test\\n\")  ;\n",
    "    fd.write(\"first line\\n\")\n",
    "    fd.write(\"second line\\n\")\n",
    "    fd.close() # close the file\n",
    "except IOError as e:\n",
    "    sys.stderr.write(\"*****\"+str(e)+\"\\n\")"
   ]
  },
  {
   "cell_type": "code",
   "execution_count": null,
   "metadata": {
    "collapsed": true
   },
   "outputs": [],
   "source": [
    "# read file\n",
    "try:\n",
    "    fd = open(\"fichier.txt\", 'r') # open file in read mode\n",
    "    while True:\n",
    "        line = fd.readline()\n",
    "        if line == \"\":\n",
    "            break # the End Of File\n",
    "        print (line)\n",
    "    fd.close()\n",
    "except IOError as err:\n",
    "    sys.stderr.write(\"*****\"+str(e)+\"\\n\")"
   ]
  },
  {
   "cell_type": "markdown",
   "metadata": {},
   "source": [
    "**note:** the upper code includes the IOError management. IOError happend for instance when a file doesn't exist!\n",
    "\n",
    "You can also read the file using the method *read(n)* to read n-characters"
   ]
  },
  {
   "cell_type": "code",
   "execution_count": null,
   "metadata": {
    "collapsed": true
   },
   "outputs": [],
   "source": [
    "# read file char by char\n",
    "try:\n",
    "    fd = open(\"fichier.txt\", 'r') # open file in read mode\n",
    "    while True:\n",
    "        c = fd.read(1)\n",
    "        if c == '':\n",
    "            break\n",
    "        sys.stdout.write(c)\n",
    "    fd.close()\n",
    "except IOError as err:\n",
    "    sys.stderr.write(\"*****\"+str(e)+\"\\n\")"
   ]
  },
  {
   "cell_type": "markdown",
   "metadata": {},
   "source": [
    "Reading file in a *pretty* code using the loop *for*"
   ]
  },
  {
   "cell_type": "code",
   "execution_count": null,
   "metadata": {
    "collapsed": true
   },
   "outputs": [],
   "source": [
    "try:\n",
    "    fd = open(\"fichier.txt\", 'r') # ouverture du fichier en lecture\n",
    "    for line in fd :\n",
    "        print (line)\n",
    "    fd.close() # fermeture du fichier\n",
    "except IOError as e:\n",
    "    sys.stderr.write(\"*****\"+str(e)+\"\\n\")"
   ]
  },
  {
   "cell_type": "markdown",
   "metadata": {},
   "source": [
    "**Python has got a user-friendly syntax (instruction *using*) which includes to close the file: **"
   ]
  },
  {
   "cell_type": "code",
   "execution_count": null,
   "metadata": {
    "collapsed": true
   },
   "outputs": [],
   "source": [
    "try:\n",
    "    with open(\"fichier.txt\", \"r\") as fd:\n",
    "        for line in fd:\n",
    "            print (line)\n",
    "except IOError as e:\n",
    "    sys.stderr.write(\"*****\"+str(e)+\"\\n\")"
   ]
  },
  {
   "cell_type": "markdown",
   "metadata": {},
   "source": [
    "### Query a remote HTTP resource  \n",
    "Python has several library to manage HTTP queries - for example *urllib*.\n",
    "\n",
    "e.g.: query the CDS-sesame service to get M33 information "
   ]
  },
  {
   "cell_type": "code",
   "execution_count": 14,
   "metadata": {
    "collapsed": false
   },
   "outputs": [
    {
     "name": "stdout",
     "output_type": "stream",
     "text": [
      "# M33\t#Q33038350\n",
      "#=Sc=Simbad (CDS, via client/server):    1     1ms (from cache)\n",
      "%@ @1522778\n",
      "%C.0 GiG\n",
      "%J 23.46210000 +30.65994167 = 01 33 50.904  +30 39 35.79\n",
      "%J.E [~ ~ ] C 2006AJ....131.1163S\n",
      "%V v -179.2 C [1.7] 2012AJ....144....4M\n",
      "%T SA(s)cd  D 2013AJ....146...67B\n",
      "%M.U 6.17 [0.04]  D 2007ApJS..173..185G\n",
      "%M.B 6.27 [0.03]  D 2007ApJS..173..185G\n",
      "%M.V 5.72 [0.04]  D 2007ApJS..173..185G\n",
      "%M.J 5.039 [0.029]  C 2006AJ....131.1163S\n",
      "%M.H 4.353 [0.038]  C 2006AJ....131.1163S\n",
      "%M.K 4.102 [0.044]  C 2006AJ....131.1163S\n",
      "%I.0 M  33\n",
      "#B 5000\n",
      "\n",
      "\n",
      "\n",
      "#====Done (2019-Sep-14,14:16:45z)====\n"
     ]
    }
   ],
   "source": [
    "import urllib.request as http\n",
    "req = http.Request('http://cds.unistra.fr/viz-bin/nph-sesame?M33')\n",
    "\n",
    "with http.urlopen(req) as fd:\n",
    "    for line in fd:\n",
    "        print(line.decode('utf-8').strip())"
   ]
  },
  {
   "cell_type": "markdown",
   "metadata": {},
   "source": [
    "----------------------------------\n",
    "## TD1 : extract data from the Hipparcos catalogue\n",
    "\n",
    "### Part 1\n",
    "Get the data using the *wget* command: \n",
    "\n",
    "wget -O hip.tsv 'http://vizier.u-strasbg.fr/viz-bin/asu-tsv?-source=I/239/hip_main&-out=HIP&-out.add=_RAJ,_DEJ&-out.max=1000&-oc.form=dec' ; tail --line=+33 hip.tsv | egrep '^ *[0-9\\.]+'  >hip.txt\n",
    "\n",
    "### part 2\n",
    "Create a function which parses the file and prints only the positions :\n",
    "Rahms, Dedms (first and secund column)\n",
    "\n",
    "### Part 3\n",
    "Create a function which parses the file and memorizes the result into a list where each element is a tuple (HIP, RAJ, DEJ) .\n",
    "\n",
    "### Part 4\n",
    "Create a function to find the HIP number from an area defined by a rectangle\n",
    "\n",
    "(find (RAJ,DEJ) when : xmin<RAJ<xmax et ymin<DEJ<ymax)\n",
    "\n",
    "test : choose (xmin,xmax,ymin,ymax)=(1.,2.,0.,90.)"
   ]
  },
  {
   "cell_type": "markdown",
   "metadata": {},
   "source": [
    "-----------------------------------------------\n",
    "## TD2 : index hipparcos data \n",
    "    \n",
    "In complement to TD1 :\n",
    "\n",
    "### Part 1\n",
    "Create a function which parses and memorizes the result into a dictionary (key=HIP number)\n",
    "\n",
    "### Part 2\n",
    "Use the dictionary to find Hipparcos identifier"
   ]
  },
  {
   "cell_type": "code",
   "execution_count": null,
   "metadata": {
    "collapsed": true
   },
   "outputs": [],
   "source": []
  }
 ],
 "metadata": {
  "kernelspec": {
   "display_name": "Python 3",
   "language": "python",
   "name": "python3"
  },
  "language_info": {
   "codemirror_mode": {
    "name": "ipython",
    "version": 3
   },
   "file_extension": ".py",
   "mimetype": "text/x-python",
   "name": "python",
   "nbconvert_exporter": "python",
   "pygments_lexer": "ipython3",
   "version": "3.4.3"
  }
 },
 "nbformat": 4,
 "nbformat_minor": 2
}
