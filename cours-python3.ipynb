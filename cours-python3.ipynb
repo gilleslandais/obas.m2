{
 "cells": [
  {
   "cell_type": "markdown",
   "metadata": {},
   "source": [
    "# Introduction to Python for astronomy\n",
    "\n",
    "Gilles Landais : gilles.landais@unistra.fr\n",
    "\n",
    "##  lesson 3:  \n",
    "\n",
    "Plan:\n",
    "1. Reading/writing files (Second part)\n",
    "buffering, binary files, parsing\n",
    "2. Interact with an external program: communication with pipe\n",
    "3. The regular expressions\n",
    "4. The Numpy library (part 1)\n"
   ]
  },
  {
   "cell_type": "markdown",
   "metadata": {},
   "source": [
    "## 1. Reading/writing files (second part)\n",
    "\n",
    "We have seen in lesson2 how to open/write/update files in Python. \n",
    "\n",
    "### Bufferisation\n",
    "In particular, with buffering you can control input/output with the filesystem. \n",
    "\n",
    "To improve the read/write efficiency, it requires to decrease the filesystem access. \n",
    "This operations are indeed slow: they need a physical access which is limited by the disk rotation speed.\n",
    "It consists of decrease the input/output with buffering data and then to flush it in the disk.\n",
    "\n",
    "The *open* function includes a parameter to manage buffering:\n",
    "<pre>fd = open(filename, mode, bufferisation_option)</pre>\n",
    "\n",
    "Buffering mode | Description\n",
    "---------------|--------------\n",
    "0 | no buffering\n",
    "1 | line buffering\n",
    "-1| default buffering drived by the OS confifguration\n",
    "*size* | set the buffer size\n",
    "\n",
    "- When to use buffering?\n",
    "\n",
    "&rarr; to improve efficiency in writing/reading: \n",
    "the bigger the buffer size is, the faster write/read processes are\n",
    "\n",
    "- When to **not** use buffering?\n",
    "\n",
    "&rarr; to secure input/output transactions and to avoid some possible data loss \n",
    "(kill a program which writes into a file for instance)\n",
    "\n",
    "### Writing in binary\n",
    "- Binary writing decreases the disk storage: \n",
    "    binary file are smaller and consequently you optimize the size in the filesystem. \n",
    "    But also, you will reduce the input/output when reading/writing files\n",
    "\n",
    "    Example: n=12345 use 5 octets in string storage, but only 4 in integer32 (32 bits) and 2 in integer16  \n",
    "    \n",
    "- Binary writing avoids to make type conversion (string &rarr; int, ...)"
   ]
  },
  {
   "cell_type": "code",
   "execution_count": 2,
   "metadata": {
    "collapsed": false
   },
   "outputs": [
    {
     "name": "stdout",
     "output_type": "stream",
     "text": [
      "READ: ceci est un test binaire\n",
      ", int=123456, float=3.140000\n"
     ]
    }
   ],
   "source": [
    "import os\n",
    "import struct\n",
    "\n",
    "def writeBin(filename):\n",
    "    # open file in write binary mode\n",
    "    fd = open(filename, \"wb\")\n",
    "    \n",
    "    # write string\n",
    "    # NOTE! in python3 the byte function is required to write string in binary !\n",
    "    fd.write(bytes(\"ceci est un test binaire\\n\", \"UTF-8\")) \n",
    "    \n",
    "    # write integer\n",
    "    i = 123456\n",
    "    fd.write(struct.pack(\"i\", i))\n",
    "    \n",
    "    # write float\n",
    "    f = 3.14\n",
    "    fd.write(struct.pack(\"f\", f))\n",
    "    \n",
    "    # close file\n",
    "    fd.close()\n",
    "    \n",
    "def readBin(filename):\n",
    "    # open file in read binary mode\n",
    "    fd = open(filename, \"rb\")\n",
    "    \n",
    "    # read a string\n",
    "    # decode function is required to convert bytes into string (Python3)\n",
    "    s = fd.readline().decode(\"utf-8\") \n",
    "    \n",
    "    # read integer\n",
    "    i = fd.read(4)\n",
    "    i = struct.unpack(\"i\", i)[0]\n",
    "    \n",
    "    # read float\n",
    "    f = fd.read(4)\n",
    "    f = struct.unpack(\"f\", f)[0]\n",
    "    \n",
    "    print (\"READ: {:s}, int={:d}, float={:f}\".format(s, i, f))\n",
    "    fd.close()\n",
    "    \n",
    "writeBin(\"test.dat\")\n",
    "readBin(\"test.dat\")"
   ]
  },
  {
   "cell_type": "markdown",
   "metadata": {},
   "source": [
    "### Data serialisation\n",
    "*serialization is the process of translating data structures or object state into a format that can be stored (for example, in a file or memory buffer) or transmitted (for example, across a network connection link) and reconstructed later (possibly in a different computer environment)* (Wikipedia)\n",
    "\n",
    "Python provides the **pickle** library in binary or ascii output."
   ]
  },
  {
   "cell_type": "code",
   "execution_count": 1,
   "metadata": {
    "collapsed": true
   },
   "outputs": [],
   "source": [
    "import pickle\n",
    "data = [{'ra': 0.000899, 'de':1.089009, 'hip': 1},\n",
    "        {'ra': 0.004265, 'de':-19.498840, 'hip': 2},\n",
    "        {'ra': 0.005024, 'de': 38.859279,'hip': 3}]\n",
    "\n",
    "# serialise data into a file data.bck (in ascii)\n",
    "output = open('data.bck', 'wb')\n",
    "pickle.dump(data, output, 0)\n",
    "output.close()"
   ]
  },
  {
   "cell_type": "code",
   "execution_count": 5,
   "metadata": {
    "collapsed": true
   },
   "outputs": [],
   "source": [
    "# serialise data into a file data.bck (in binary)\n",
    "output = open('databin.bck', 'wb')\n",
    "pickle.dump(data, output, -1)\n",
    "output.close()"
   ]
  },
  {
   "cell_type": "code",
   "execution_count": 7,
   "metadata": {
    "collapsed": false
   },
   "outputs": [
    {
     "name": "stdout",
     "output_type": "stream",
     "text": [
      "databin.bck\n",
      "data.bck\n"
     ]
    }
   ],
   "source": [
    "# list created files\n",
    "for f in os.listdir():\n",
    "    if f.find(\".bck\") > 0: print (f)"
   ]
  },
  {
   "cell_type": "code",
   "execution_count": 8,
   "metadata": {
    "collapsed": false
   },
   "outputs": [
    {
     "name": "stdout",
     "output_type": "stream",
     "text": [
      "[{'hip': 1, 'ra': 0.000899, 'de': 1.089009}, {'hip': 2, 'ra': 0.004265, 'de': -19.49884}, {'hip': 3, 'ra': 0.005024, 'de': 38.859279}]\n"
     ]
    }
   ],
   "source": [
    "# open the serialized file\n",
    "input = open('databin.bck', 'rb')\n",
    "datain = pickle.load(input)\n",
    "print (datain)\n",
    "input.close()"
   ]
  },
  {
   "cell_type": "markdown",
   "metadata": {},
   "source": [
    "### Moving into a file \n",
    "Reading file is a step to step process (sequential): the place in the file is driven by a *cursor* \n",
    "(~pointer in the opened file). \n",
    "\n",
    "This is possible to move the *cursor* into the file:\n",
    "    \n",
    "- *tell()*: method to get the place where the cursor is\n",
    "- *seek(n)*: method to move the cursor "
   ]
  },
  {
   "cell_type": "code",
   "execution_count": 9,
   "metadata": {
    "collapsed": false
   },
   "outputs": [
    {
     "name": "stdout",
     "output_type": "stream",
     "text": [
      "s|2H  Cam| 21291|1035|4.23|03 29 04.1 +59 56 25|B9Ia           |000\n",
      "s|omi Sco|147084|6081|4.55|16 20 38.1 -24 10 08|A5II           |000\n",
      "p|gam Cas|  5394| 264|2.47|00 56 42.2 +60 43 01|B0.5IVe        |230\n",
      "p|phi Per| 10516| 496|4.07|01 43 39.4 +50 41 20|B1.5(V:)e-shell|400\n",
      "p|48  Per| 25940|1273|4.04|04 08 39.5 +47 42 47|B4Ve           |200\n",
      "p|zet Tau| 37202|1910|3.00|05 37 38.6 +21 08 34|B1IVe-shell    |220\n",
      "p|48  Lib|142983|5941|4.88|15 58 11.3 -14 16 45|B3:IV:e-shell  |400\n",
      "p|chi Oph|148184|6118|4.42|16 27 01.3 -18 27 21|B1.5Ve         |140\n",
      "p|pi  Aqr|212571|8539|4.66|22 25 16.5 +01 22 38|B1III-IVe      |300\n",
      "p|omi And|217675|8762|3.62|23 01 55.1 +42 19 34|B6III          |260\n",
      "\n"
     ]
    }
   ],
   "source": [
    "# read the file asu.ascii which is an ascii aligned files\n",
    "# table coming from II/220 VizieR catalog : Polarisation of Be stars (McDavid, 1986-1999)\n",
    "with open(\"asu.ascii\") as fd:\n",
    "    print (fd.read())\n",
    "\n"
   ]
  },
  {
   "cell_type": "code",
   "execution_count": 10,
   "metadata": {
    "collapsed": false
   },
   "outputs": [
    {
     "name": "stdout",
     "output_type": "stream",
     "text": [
      "record3: p|gam Cas|  5394| 264|2.47|00 56 42.2 +60 43 01|B0.5IVe        |230\n",
      "\n",
      "tell=204 (=68*3)\n"
     ]
    }
   ],
   "source": [
    "# go to the 3rd line : a line has 67 characters  (+1 '\\n')\n",
    "#(see ReadMe description ftp://cdsarc.u-strasbg.fr/pub/cats/II/220/ReadMe)\n",
    "with open(\"asu.ascii\") as fd:\n",
    "    fd.seek((67+1)*2) \n",
    "    line = fd.readline()\n",
    "    print (\"record3: \"+line)\n",
    "    print (\"tell={} (=68*3)\".format(fd.tell()))"
   ]
  },
  {
   "cell_type": "markdown",
   "metadata": {},
   "source": [
    "-------------------------\n",
    "## 2. Interact with an external program: communication with pipe\n",
    "\n",
    "### Execute a command in a python program\n"
   ]
  },
  {
   "cell_type": "code",
   "execution_count": 11,
   "metadata": {
    "collapsed": false
   },
   "outputs": [
    {
     "data": {
      "text/plain": [
       "0"
      ]
     },
     "execution_count": 11,
     "metadata": {},
     "output_type": "execute_result"
    }
   ],
   "source": [
    "import os\n",
    "os.system(\"sleep 5\")"
   ]
  },
  {
   "cell_type": "markdown",
   "metadata": {},
   "source": [
    "The upper code executes the unix command \"sleep 5\" in background. \n",
    "The command is independent of the python program in synchronous mode \n",
    "(the next python instruction is executed when the unix command is finished).\n",
    "\n",
    "**Note**: There aren't any interactions between the python code and the process executed!"
   ]
  },
  {
   "cell_type": "markdown",
   "metadata": {},
   "source": [
    "### Interract with an external program\n",
    "In Unix, the *pipe* enable to have a communication between processes:\n",
    "\n",
    "Example:<pre> cat /var/log/syslog | grep error</pre>\n",
    "\n",
    "Using pipe is simple in Python, the api is similar as open a file."
   ]
  },
  {
   "cell_type": "code",
   "execution_count": 12,
   "metadata": {
    "collapsed": false
   },
   "outputs": [
    {
     "name": "stdout",
     "output_type": "stream",
     "text": [
      "File: asu.ascii\n",
      "\n",
      "File: asu.tsv\n",
      "\n",
      "File: bibcat\n",
      "\n",
      "File: bibcat.ori\n",
      "\n",
      "File: binaryfile.py\n",
      "\n",
      "File: cours3.new.pdf\n",
      "\n",
      "File: cours3.odp\n",
      "\n",
      "File: cours3.pdf\n",
      "\n",
      "File: cours-python3.ipynb\n",
      "\n",
      "File: data.bck\n",
      "\n",
      "File: databin.bck\n",
      "\n",
      "File: exemple_numpy.py\n",
      "\n",
      "File: expre.py\n",
      "\n",
      "File: fichier.py\n",
      "\n",
      "File: hipparcos.tsv\n",
      "\n",
      "File: hipparcos.txt\n",
      "\n",
      "File: hip.tsv\n",
      "\n",
      "File: initnumpy.py\n",
      "\n",
      "File: initnumpy.pyc\n",
      "\n",
      "File: matrice.py\n",
      "\n",
      "File: np\n",
      "\n",
      "File: numpy1.py\n",
      "\n",
      "File: openfileTell.py\n",
      "\n",
      "File: readinput.py\n",
      "\n",
      "File: simplenumpy.py\n",
      "\n",
      "File: slice.py\n",
      "\n",
      "File: TD_1_prefilled.ipynb\n",
      "\n",
      "File: td3_1bis.py\n",
      "\n",
      "File: td3_1.py\n",
      "\n",
      "File: td3_2bis.py\n",
      "\n",
      "File: td3_2.py\n",
      "\n",
      "File: TD3.ipynb\n",
      "\n",
      "File: td3.txt\n",
      "\n",
      "File: test.dat\n",
      "\n",
      "File: testficbin.py\n",
      "\n",
      "File: testpopen.py\n",
      "\n",
      "File: test.py\n",
      "\n",
      "File: t.py\n",
      "\n",
      "File: tt.py\n",
      "\n",
      "File: ttt.py\n",
      "\n",
      "File: vizier.u-strasbg.fr\n",
      "\n"
     ]
    }
   ],
   "source": [
    "import os\n",
    "with os.popen(\"ls -1\") as fd:\n",
    "    for line in fd:\n",
    "        print (\"File:\",line)"
   ]
  },
  {
   "cell_type": "markdown",
   "metadata": {},
   "source": [
    "- The *pipe* descriptor enables communication with the process started.\n",
    "- Pipe descriptor are available for STDIN, STDOUT and STDERR"
   ]
  },
  {
   "cell_type": "code",
   "execution_count": 14,
   "metadata": {
    "collapsed": true
   },
   "outputs": [],
   "source": [
    "import sys\n",
    "import subprocess\n",
    "\n",
    "def read_pipe(command):\n",
    "    p = subprocess.Popen([\"/bin/sh\"], \n",
    "                     stdout=subprocess.PIPE, \n",
    "                     stderr=subprocess.PIPE,\n",
    "                     stdin=subprocess.PIPE)\n",
    "\n",
    "    p.stdin.write(bytes(command, \"UTF-8\"))\n",
    "    p.stdin.close()\n",
    "\n",
    "    for line in p.stdout:\n",
    "        print (line.decode(\"UTF-8\").strip())\n",
    "    p.stdout.close()\n",
    "\n",
    "    for line in p.stderr:\n",
    "        sys.stderr.write(\"(error) {}\\n\".format(line.decode(\"UTF-8\").strip()))\n",
    "    p.stderr.close()\n"
   ]
  },
  {
   "cell_type": "code",
   "execution_count": 15,
   "metadata": {
    "collapsed": false
   },
   "outputs": [
    {
     "name": "stdout",
     "output_type": "stream",
     "text": [
      ".\n",
      "..\n",
      "asu.ascii\n",
      "asu.tsv\n",
      "bibcat\n",
      "bibcat.ori\n",
      "binaryfile.py\n",
      "cours3.new.pdf\n",
      "cours3.odp\n",
      "cours3.pdf\n",
      "cours-python3.ipynb\n",
      "data.bck\n",
      "databin.bck\n",
      "exemple_numpy.py\n",
      "expre.py\n",
      "fichier.py\n",
      "hipparcos.tsv\n",
      "hipparcos.txt\n",
      "hip.tsv\n",
      "initnumpy.py\n",
      "initnumpy.pyc\n",
      ".ipynb_checkpoints\n",
      "matrice.py\n",
      "np\n",
      "numpy1.py\n",
      "openfileTell.py\n",
      "readinput.py\n",
      "simplenumpy.py\n",
      "slice.py\n",
      "TD_1_prefilled.ipynb\n",
      "td3_1bis.py\n",
      "td3_1.py\n",
      "td3_2bis.py\n",
      "td3_2.py\n",
      ".td3_2.py.swo\n",
      "TD3.ipynb\n",
      "td3.txt\n",
      "test.dat\n",
      "testficbin.py\n",
      "testpopen.py\n",
      "test.py\n",
      "t.py\n",
      "tt.py\n",
      "ttt.py\n",
      "vizier.u-strasbg.fr\n"
     ]
    }
   ],
   "source": [
    "read_pipe(\"ls -a\")"
   ]
  },
  {
   "cell_type": "code",
   "execution_count": 16,
   "metadata": {
    "collapsed": false
   },
   "outputs": [
    {
     "name": "stderr",
     "output_type": "stream",
     "text": [
      "(error) ls: impossible d'accéder à inexisting_file: Aucun fichier ou dossier de ce type\n"
     ]
    }
   ],
   "source": [
    "# execute a command that generates error\n",
    "read_pipe(\"ls inexisting_file\")"
   ]
  },
  {
   "cell_type": "markdown",
   "metadata": {},
   "source": [
    "-----------------------------\n",
    "## 3. The regular expressions\n",
    "\n",
    "Regular expressions enable to find a motif into a string.\n",
    "\n",
    "Regular expressions are an extension of the *wildcard* used in UNIX.\n",
    "\n",
    "Example: wildcard usage in the *ls* command\n",
    "<pre> ls a*.py</pre>"
   ]
  },
  {
   "cell_type": "code",
   "execution_count": 17,
   "metadata": {
    "collapsed": true
   },
   "outputs": [],
   "source": [
    "import sys\n",
    "def search_file_word(filename, word):\n",
    "    \"\"\" A simple python code to search a word into a file\n",
    "        filename: file name\n",
    "        word: the word to find\n",
    "    \"\"\"\n",
    "    with open(filename,'r') as fd:\n",
    "        for line in fd:\n",
    "            if line.find(word)>=0:\n",
    "                print (line)"
   ]
  },
  {
   "cell_type": "markdown",
   "metadata": {},
   "source": [
    "Regular Expresion completes the wildcard possibility :\n",
    "- type differentiation: alpha-numeric char, punctuation , special character...\n",
    "- repetition specification\n",
    "- extract sub string to update\n",
    "\n",
    "Regular expressions have a nomenclature which is defined outside than python. They were updated in the past by **Perl** language.\n",
    "\n",
    "Example of language which works with reagular expressions:\n",
    "- Perl\n",
    "- Awk\n",
    "- Python (import re)\n",
    "- Java (import java.util.regex)\n",
    "- ...\n",
    "\n",
    "\n",
    "#### The most populare regular expressions:\n",
    "\n",
    "Reg exp | Description\n",
    "--------|-------------\n",
    ".       | every character\n",
    "^       | Begining of the line\n",
    "$       | End of the line\n",
    "[a-zA-Z0-9] | Every characters in the []\n",
    "[^\\t\\n]     | Every characters which are **not** ibnt the []\n",
    "\\d          | a Number\n",
    "\\w          | alpha-num\n",
    "\\s          | white space, tab or caraige return (\\n)\n",
    "\n",
    "#### Repetition instructions\n",
    "\n",
    "Reg exp | Description\n",
    "--------|-------------\n",
    "*       | Repetition (0 or more) of the previous characher \n",
    "+       | Repetition (1 or more) of the previous characher\n",
    "?       | 0 or one previsous charachter\n",
    "{n}     | previous character appears n-times"
   ]
  },
  {
   "cell_type": "markdown",
   "metadata": {},
   "source": [
    "**Examples**:\n",
    "- A file including its extension:    ^[^\\.]\\*\\\\..\\*\\$ \n",
    "- A date with format YYYY-MMM-JJ: ^\\d{4}-\\w+-\\d{2}\\$\n",
    "- A mail (nom.prenom@provider.pays): ^[^\\.]+\\\\.[^@]*@[^\\.]+\\w+$\n",
    "\n",
    "#### select a sub string in a regular expression\n",
    "Example : a date with format YYYY-MMM-JJ, example 2012-sept-01\n",
    "\n",
    "^(\\d{4})-(\\w+)-(\\d{2})\\$\n",
    "\n",
    "The syntax creates 3 groups delimitted with parenthesis ()\n",
    "- group 1: \\d{4}  &Rarr; 2012\n",
    "- group 2: \\w+  &Rarr; Sept\n",
    "- group 3; \\d{2} &Rarr; 01"
   ]
  },
  {
   "cell_type": "markdown",
   "metadata": {},
   "source": [
    "#### Regular expression in Python\n",
    "- import *re* module\n",
    "- syntax closed from Java"
   ]
  },
  {
   "cell_type": "code",
   "execution_count": 18,
   "metadata": {
    "collapsed": false
   },
   "outputs": [
    {
     "name": "stdout",
     "output_type": "stream",
     "text": [
      "ok\n"
     ]
    }
   ],
   "source": [
    "import re\n",
    "\n",
    "#s = input(\"date (format YY/MM/DD HH:mm:ss) ?\")\n",
    "s = \"18/01/01 00:10:12\"\n",
    "\n",
    "if re.search(\"^\\d{2}/[01]\\d/[0123]\\d +[012]\\d:[0-5]\\d:[0-5]\\d$\",s):\n",
    "    print (\"ok\")"
   ]
  },
  {
   "cell_type": "markdown",
   "metadata": {},
   "source": [
    "Regular expression optimisation when it is used several time\n",
    "<pre> re.compile(reg_exp)</pre>"
   ]
  },
  {
   "cell_type": "code",
   "execution_count": 19,
   "metadata": {
    "collapsed": false
   },
   "outputs": [
    {
     "name": "stdout",
     "output_type": "stream",
     "text": [
      "ok\n"
     ]
    }
   ],
   "source": [
    "s = \"18/01/01 00:10:12\"\n",
    "\n",
    "reg = re.compile(\"^\\d{2}/[01]\\d/[0123]\\d +[012]\\d:[0-5]\\d:[0-5]\\d$\")\n",
    "if reg.search(s):\n",
    "    print (\"ok\")"
   ]
  },
  {
   "cell_type": "markdown",
   "metadata": {},
   "source": [
    "#### Select a sub string into regular expression"
   ]
  },
  {
   "cell_type": "code",
   "execution_count": 20,
   "metadata": {
    "collapsed": false
   },
   "outputs": [
    {
     "name": "stdout",
     "output_type": "stream",
     "text": [
      "ok:18-01-01\n"
     ]
    }
   ],
   "source": [
    "s = \"18/01/01 00:10:12\"\n",
    "reg = re.compile(\"^(\\d{2})/([01]\\d)/([0123]\\d) +([012]\\d):([0-5]\\d):([0-5]\\d)$\")\n",
    "mo = reg.search(s)\n",
    "if mo:\n",
    "    print (\"ok:\"+mo.group(1)+\"-\"+mo.group(2)+\"-\"+mo.group(3))"
   ]
  },
  {
   "cell_type": "markdown",
   "metadata": {},
   "source": [
    "-------------------------\n",
    "## (pause) TD\n",
    "\n",
    "## TD1 : search position in the VizieR catalogue J/ApJ/700/1299 having name coming from the Henry Draper catalogue (Name= HD+number)\n",
    "\n",
    "1. Execute the Unix folowing command:\n",
    "\n",
    "wget -O - \"http://vizier.u-strasbg.fr/viz-bin/asu-tsv?-source=J/ApJ/700/1299/table2&-out.add=_RAJ,_DEJ&-out=Name&-out.max=1000\" |egrep  '^ *[0-9].*'\n",
    "\n",
    "2. Memorize data in an adapted structure indexed by the HD number (dictionary) \n",
    "\n",
    "3. Build a code which returns position from HD number\n"
   ]
  },
  {
   "cell_type": "markdown",
   "metadata": {},
   "source": [
    "-------------------------------\n",
    "## 4. The Numpy library (part 1)\n",
    "![Image of Numpy](https://scipy.org/_static/images/numpylogo_med.png)\n",
    "(http://numpy.scipy.org/, http://www.scipy.org/)\n",
    "\n",
    "- library to work with vectors\n",
    "- numpy is coded in C and included into python\n",
    "- needs installation:\n",
    "    - from sources: \n",
    "    <pre>python setup.py install</pre>\n",
    "    - (Ubuntu/Debian) using apt-get : \n",
    "    <pre>apt-get install python-numpy</pre>\n",
    "    - with pip tools: \n",
    "    <pre>pip install python</pre>\n",
    "\n",
    "#### A first example : make a vector addition"
   ]
  },
  {
   "cell_type": "code",
   "execution_count": 22,
   "metadata": {
    "collapsed": false
   },
   "outputs": [
    {
     "name": "stdout",
     "output_type": "stream",
     "text": [
      "[-1.2999999999999998, 6.8, 14.4]\n"
     ]
    }
   ],
   "source": [
    "# python code without numpy\n",
    "def sum_vecteur(a,b):\n",
    "    c = []\n",
    "    for i in range(len(a)):\n",
    "        c.append(a[i]+b[i])\n",
    "    return c\n",
    "\n",
    "a = (1.,2.3,4.5)\n",
    "b = (-2.3,4.5,9.9)\n",
    "print (sum_vecteur(a,b))"
   ]
  },
  {
   "cell_type": "code",
   "execution_count": 23,
   "metadata": {
    "collapsed": false
   },
   "outputs": [
    {
     "name": "stdout",
     "output_type": "stream",
     "text": [
      "[ -1.3   6.8  14.4]\n"
     ]
    }
   ],
   "source": [
    "# code using numpy\n",
    "import numpy\n",
    "\n",
    "a = (1.,2.3,4.5)\n",
    "b = (-2.3,4.5,9.9)\n",
    "\n",
    "na = numpy.array(a)\n",
    "nb = numpy.array(b)\n",
    "print (na+nb)"
   ]
  },
  {
   "cell_type": "markdown",
   "metadata": {
    "collapsed": true
   },
   "source": [
    "### Numpy datatype\n",
    "\n",
    "Data type | Description \n",
    "----------|----------\n",
    "bool | boolean\n",
    "int | integer (int32 or int64)\n",
    "int8, int16, int32, int64 | integer\n",
    "uint8, uint16,... | unsigned integer\n",
    "float | real (float64)\n",
    "float8, float16, float32, float64 | real\n",
    "complex | complex number, e.g.: 1+j\n",
    "complex64, complex128 | complex number\n",
    "\n",
    "### Declare and intialize Numpy structure\n",
    "\n",
    "Type | Description\n",
    "-----| ----------\n",
    "numpy.array | vector, e.g.: np.array([1,2,3])\n",
    "numpy.ndarray | multi-dimensional vector\n",
    "numpy.matrix | Matrix, e.g.: numpy.matrix([[1,0],[-0,1]])\n",
    "\n",
    "**ex numpy.ndarray: **\n"
   ]
  },
  {
   "cell_type": "code",
   "execution_count": 24,
   "metadata": {
    "collapsed": false
   },
   "outputs": [
    {
     "name": "stdout",
     "output_type": "stream",
     "text": [
      "[[1 0]\n",
      " [1 2]]\n"
     ]
    }
   ],
   "source": [
    "n = numpy.ndarray(shape=(2,2), dtype='int',buffer=numpy.array([[1,0],[1,2]]))\n",
    "print (n)"
   ]
  },
  {
   "cell_type": "markdown",
   "metadata": {},
   "source": [
    "### Numpy initialisation"
   ]
  },
  {
   "cell_type": "code",
   "execution_count": 2,
   "metadata": {
    "collapsed": false
   },
   "outputs": [
    {
     "name": "stdout",
     "output_type": "stream",
     "text": [
      "[0 1 2 3 4 5 6 7 8 9]\n",
      "[1 2 3]\n",
      "[ 0.   0.1  0.2  0.3  0.4]\n"
     ]
    }
   ],
   "source": [
    "import numpy as np\n",
    "\n",
    "na = np.arange(10)\n",
    "print (na)\n",
    "\n",
    "c = (1,2,3)\n",
    "nc = np.array(c)\n",
    "print (nc)\n",
    "\n",
    "na = np.arange(0,0.5,0.1)\n",
    "print (na)"
   ]
  },
  {
   "cell_type": "markdown",
   "metadata": {},
   "source": [
    "### Mathematical operations\n",
    "\n",
    "- operation on vector/matrix\n",
    "- addition, scalar multiplication, matrix multiplication\n",
    "- trigonomtric fucntions and usual math. functions:"
   ]
  },
  {
   "cell_type": "code",
   "execution_count": 26,
   "metadata": {
    "collapsed": false
   },
   "outputs": [
    {
     "name": "stdout",
     "output_type": "stream",
     "text": [
      "[  3.    6.6  12. ]\n"
     ]
    }
   ],
   "source": [
    "a= np.array((1,2.2,4))\n",
    "print (3*a)"
   ]
  },
  {
   "cell_type": "markdown",
   "metadata": {},
   "source": [
    "**Exercise: **\n",
    "- create a numpy array\n",
    "- multiply the vector by a scalar\n",
    "\n",
    "**Matrix example:**\n",
    "- build a matrix 3x3: m = numpy.matrix([[2.1,2.2,3.1],[-1,0.5,-2],[1.1,0,-1.2]])\n",
    "- compute the inverted matrix (*m.getI()*) and the trasposed matrix (*m.getT()*)\n",
    "- compute the product of the matrix with its inverted matrix, ans see the result"
   ]
  },
  {
   "cell_type": "code",
   "execution_count": 27,
   "metadata": {
    "collapsed": false
   },
   "outputs": [
    {
     "name": "stdout",
     "output_type": "stream",
     "text": [
      "[[ 2.1  2.2  3.1]\n",
      " [-1.   0.5 -2. ]\n",
      " [ 1.1  0.  -1.2]]\n"
     ]
    }
   ],
   "source": [
    "m = numpy.matrix([[2.1,2.2,3.1],[-1,0.5,-2],[1.1,0,-1.2]])\n",
    "print (m)"
   ]
  },
  {
   "cell_type": "code",
   "execution_count": 28,
   "metadata": {
    "collapsed": false
   },
   "outputs": [
    {
     "name": "stdout",
     "output_type": "stream",
     "text": [
      "[[ 0.05744375 -0.25275251  0.56965055]\n",
      " [ 0.3255146   0.56773576 -0.10531355]\n",
      " [ 0.05265677 -0.2316898  -0.31115366]]\n"
     ]
    }
   ],
   "source": [
    "mm=m.getI()\n",
    "print (mm)"
   ]
  },
  {
   "cell_type": "code",
   "execution_count": 29,
   "metadata": {
    "collapsed": false
   },
   "outputs": [
    {
     "name": "stdout",
     "output_type": "stream",
     "text": [
      "[[  1.00000000e+00   0.00000000e+00   2.52975663e-17]\n",
      " [ -2.41482808e-18   1.00000000e+00  -3.24324366e-17]\n",
      " [  5.67069396e-18   5.55111512e-17   1.00000000e+00]]\n"
     ]
    }
   ],
   "source": [
    "print (mm*m)"
   ]
  },
  {
   "cell_type": "markdown",
   "metadata": {},
   "source": [
    "### Extract a sub part of a numpy array (slicing)\n",
    "\n",
    "Unlike the python array sub-selection (e.g.: tab[n,m]), the numpy sub-selection is **not a copy**"
   ]
  },
  {
   "cell_type": "code",
   "execution_count": 30,
   "metadata": {
    "collapsed": false
   },
   "outputs": [
    {
     "name": "stdout",
     "output_type": "stream",
     "text": [
      "[ 0 -1  2  3  4  5  6  7  8  9]\n"
     ]
    }
   ],
   "source": [
    "a = np.arange(10)\n",
    "b = a[1 :4]\n",
    "b[0] = -1\n",
    "print (a)"
   ]
  },
  {
   "cell_type": "code",
   "execution_count": 11,
   "metadata": {
    "collapsed": false
   },
   "outputs": [
    {
     "name": "stdout",
     "output_type": "stream",
     "text": [
      "[[0 0]\n",
      " [0 0]]\n",
      "[[ 0  0  0]\n",
      " [ 0 -1  0]\n",
      " [ 0  0  0]]\n"
     ]
    }
   ],
   "source": [
    "# initialise numpy array with random values\n",
    "a = np.array([(0,0,0),(0,0,0),(0,0,0)])\n",
    "b = a[1:3,1:3]\n",
    "print (b)\n",
    "\n",
    "b[0,0] = -1\n",
    "print (a)"
   ]
  },
  {
   "cell_type": "code",
   "execution_count": 32,
   "metadata": {
    "collapsed": false
   },
   "outputs": [
    {
     "name": "stdout",
     "output_type": "stream",
     "text": [
      "[[ -2.00000000e+00  -3.24324366e-17]\n",
      " [  5.55111512e-17   1.00000000e+00]]\n",
      "[[ -1.00000000e+00  -3.24324366e-17]\n",
      " [  5.55111512e-17   1.00000000e+00]]\n"
     ]
    }
   ],
   "source": [
    "# Make a numpy array copy\n",
    "\n",
    "c = b.copy()\n",
    "c[0,0] = -2\n",
    "print (c)\n",
    "print (b)"
   ]
  },
  {
   "cell_type": "markdown",
   "metadata": {},
   "source": [
    "### Append Numpy array\n",
    "\n",
    "- the '+' operator is not available to concatenate numpy arrays (as it was for Python arrays) because the '+' operator is defined as vector addition.\n",
    "- The method *.append* is not available \n",
    "\n",
    "Adding a new element to a Numpy array is possible with the function: *numpy.append(..)*\n",
    "\n",
    "**Warning**: *numpy.append* creates a new variable!"
   ]
  },
  {
   "cell_type": "code",
   "execution_count": 33,
   "metadata": {
    "collapsed": false
   },
   "outputs": [
    {
     "name": "stdout",
     "output_type": "stream",
     "text": [
      "'numpy.ndarray' object has no attribute 'append'\n",
      "[ 1.1  2.2  3.3  4.4  5.5]\n",
      "[ 0.   2.2  3.3]\n",
      "[ 1.1  2.2  3.3  4.4  5.5]\n"
     ]
    }
   ],
   "source": [
    "a = np.array([1.1,2.2,3.3])\n",
    "\n",
    "try:\n",
    "    a.append([4.4,5.5])\n",
    "except Exception as err:\n",
    "    print (err)\n",
    "\n",
    "b = np.append(a, [4.4,5.5])\n",
    "print (b)\n",
    "\n",
    "a[0] -= 1.1\n",
    "print (a)\n",
    "print (b)"
   ]
  },
  {
   "cell_type": "markdown",
   "metadata": {},
   "source": [
    "### Append a multi-dimensionnal Numpy Array\n",
    "\n",
    "*concatenate((arr1,arr2), axis=..)* : concatenate 2 numpy arrays\n",
    "\n",
    "*numpy.c_[]* : add a new column\n",
    "\n",
    "*numpy.r_[]* : add a new record\n",
    "\n",
    "*reshape(x,y)* : create a new array with the original values\n",
    "\n",
    "see : http://wiki.scipy.org/Tentative_NumPy_Tutorial"
   ]
  },
  {
   "cell_type": "code",
   "execution_count": 34,
   "metadata": {
    "collapsed": false
   },
   "outputs": [
    {
     "name": "stdout",
     "output_type": "stream",
     "text": [
      "[[ 1.1  2.2  3.3  0. ]\n",
      " [-1.1 -2.2 -3.3  0. ]]\n",
      "[[ 0  1  2  3  4]\n",
      " [ 5  6  7  8  9]\n",
      " [10 11 12 13 14]\n",
      " [15 16 17 18 19]]\n",
      "[[ 0  1  2  3  4  1]\n",
      " [ 5  6  7  8  9  2]\n",
      " [10 11 12 13 14  3]\n",
      " [15 16 17 18 19  4]]\n"
     ]
    }
   ],
   "source": [
    "a = np.array([(1.1,2.2,3.3),(-1.1,-2.2,-3.3)])\n",
    "b = np.c_[a,[0,0]]\n",
    "print (b)\n",
    "\n",
    "a = np.arange(20)\n",
    "b = a.reshape(4,5)\n",
    "print (b)\n",
    "\n",
    "d = np.array([1,2,3,4]).reshape(4,1)\n",
    "c = np.concatenate((b,d), axis=1)\n",
    "print (c)"
   ]
  },
  {
   "cell_type": "markdown",
   "metadata": {},
   "source": [
    "### Working with Numpy tables\n",
    "\n",
    "Multi-dimensional array are similar to tables with columns and records (or lines). \n",
    "Numpy enables to give a name and a type for every columns.\n",
    "\n",
    "However, Numpy table manipulation is tedious.. We will see in the next session a more user-friendly interface \n",
    "*astropy*"
   ]
  },
  {
   "cell_type": "code",
   "execution_count": 35,
   "metadata": {
    "collapsed": false
   },
   "outputs": [
    {
     "name": "stdout",
     "output_type": "stream",
     "text": [
      "1.1\n"
     ]
    }
   ],
   "source": [
    "# create a datatype including name+type for a table having 3 columns\n",
    "dt = np.dtype([('field1','f8'),('field2','f8'),('field3','f8')])\n",
    "\n",
    "# create a table using the previous datatype defintion\n",
    "a = np.array((1.1,2.2,3.3), dtype=dt)\n",
    "print (a['field1'])\n"
   ]
  },
  {
   "cell_type": "code",
   "execution_count": 38,
   "metadata": {
    "collapsed": false
   },
   "outputs": [
    {
     "name": "stdout",
     "output_type": "stream",
     "text": [
      "[ 11.532   7.532  16.92 ]\n",
      "(950,  5.766,  5.22)\n"
     ]
    }
   ],
   "source": [
    "# direct initialisation \n",
    "npval = np.array([\n",
    "(950,5.766,5.22),\n",
    "(951,3.766,7.828),\n",
    "(952,8.46,8.481)], dtype=[('hip','i8'),('btmag','f8'),('vtmag','f8')])\n",
    "print (npval['btmag']*2)\n",
    "print (npval[0])"
   ]
  },
  {
   "cell_type": "markdown",
   "metadata": {},
   "source": [
    "**Note** : a common error consists to define a datatype with brackets instead of parenthesis\n"
   ]
  },
  {
   "cell_type": "code",
   "execution_count": 39,
   "metadata": {
    "collapsed": false
   },
   "outputs": [
    {
     "name": "stdout",
     "output_type": "stream",
     "text": [
      "'float' does not support the buffer interface\n"
     ]
    }
   ],
   "source": [
    "try:\n",
    "    a = np.array([1.1,2.2,3.3], dtype=dt)\n",
    "except Exception as err:\n",
    "    print (err)"
   ]
  },
  {
   "cell_type": "markdown",
   "metadata": {},
   "source": [
    "#### Initialise an array with zeros:"
   ]
  },
  {
   "cell_type": "code",
   "execution_count": 40,
   "metadata": {
    "collapsed": false
   },
   "outputs": [
    {
     "name": "stdout",
     "output_type": "stream",
     "text": [
      "[( 0.,  0., 0) ( 0.,  0., 0) ( 0.,  0., 0) ( 0.,  0., 0) ( 0.,  0., 0)\n",
      " ( 0.,  0., 0) ( 0.,  0., 0) ( 0.,  0., 0) ( 0.,  0., 0) ( 0.,  0., 0)]\n"
     ]
    }
   ],
   "source": [
    "dt = np.dtype([('ra','f8'),('dec','f8'),('hip','i8')])\n",
    "data = np.zeros(10, dtype=dt)\n",
    "print (data)"
   ]
  },
  {
   "cell_type": "markdown",
   "metadata": {},
   "source": [
    "--------------------------------------------\n",
    "## TD (part 2)\n",
    "\n",
    "Use Numpy to compute the color of hipparcos objects.\n",
    "\n",
    "- Download from VizieR a subset of Hipparcos catalogue:\n",
    "wget -O - \"http://vizier.u-strasbg.fr/viz-bin/asu-tsv?-source=I/239/hip_main&-oc.form=dec&-out.add=_RAJ,_DEJ&-out=HIP,BTmag,VTmag&-out.max=50&BTmag=>0&VTmad=>0\"|egrep  '^ *[0-9].*'>hipparcos.tsv\n",
    "\n",
    "The result is a file in TSV format.\n",
    "\n",
    "- create a Numpy array to store the Hipparcos file\n",
    "\n",
    "    - Give a datatype to the structure (using *numpy.dtype(...)*)\n",
    "    \n",
    "- Fill the array with values coming from the TSV files :\n",
    "    - read the file line by line \n",
    "    - split each line in an Python array (an Array of tuple)\n",
    "    - fill the numpy array using the Python array\n",
    "\n",
    "- Compute the color  B-V = BTmag-VTmag\n",
    "- Compute the angular distance from (0,0)\n",
    "  $\\sqrt{ra^{2}+de^{2}}$\n",
    "- print distances less than 45deg"
   ]
  },
  {
   "cell_type": "code",
   "execution_count": 2,
   "metadata": {
    "collapsed": false
   },
   "outputs": [
    {
     "data": {
      "text/plain": [
       "256"
      ]
     },
     "execution_count": 2,
     "metadata": {},
     "output_type": "execute_result"
    }
   ],
   "source": [
    "import os\n",
    "os.system(\"wget -O - \\\"http://vizier.u-strasbg.fr/viz-bin/asu-tsv?-source=I/239/hip_main&-oc.form=dec&-out.add=_RAJ,_DEJ&-out=HIP,BTmag,VTmag&-out.max=50&BTmag=>0&VTmad=>0\\\"|egrep '^ [0-9].'>hipparcos.tsv\")\n",
    "\n",
    "        "
   ]
  },
  {
   "cell_type": "code",
   "execution_count": null,
   "metadata": {
    "collapsed": true
   },
   "outputs": [],
   "source": [
    "\n",
    "import numpy\n",
    "dt = np.dtype([('ra','f8'),('dec','f8'),('hip','i8'),('btmag','f8'),('vtmag','f8')])\n",
    "\n",
    "with open(\"hipparcos.tsv\", \"r\") as fd:\n",
    "    for line in fd:\n",
    "        rec = line.split(\"\\t\")\n",
    "        "
   ]
  }
 ],
 "metadata": {
  "kernelspec": {
   "display_name": "Python 3",
   "language": "python",
   "name": "python3"
  },
  "language_info": {
   "codemirror_mode": {
    "name": "ipython",
    "version": 3
   },
   "file_extension": ".py",
   "mimetype": "text/x-python",
   "name": "python",
   "nbconvert_exporter": "python",
   "pygments_lexer": "ipython3",
   "version": "3.4.3"
  }
 },
 "nbformat": 4,
 "nbformat_minor": 2
}
