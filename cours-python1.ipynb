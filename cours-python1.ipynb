{
 "cells": [
  {
   "cell_type": "markdown",
   "metadata": {},
   "source": [
    "# Introduction to Python for astronomy\n",
    "\n",
    "![Image of Python](https://www.python.org/static/img/python-logo.png)\n",
    "\n",
    "Gilles Landais : gilles.landais@unistra.fr\n",
    "\n",
    "http://www.python.org/\n"
   ]
  },
  {
   "cell_type": "markdown",
   "metadata": {},
   "source": [
    "-----------------\n",
    "# First lesson : basics \n",
    "### Plan\n",
    "1. Introduction\n",
    "2. get started\n",
    "3. the variables\n",
    "4. language components\n",
    "5. work with strings"
   ]
  },
  {
   "cell_type": "markdown",
   "metadata": {},
   "source": [
    "--------------------\n",
    "## 1. Introduction : Python is an interpreted language\n",
    "\n",
    "In contrast to compiled language (C, Java, ..) interpreted language are not executed directly by the computer (Operating System) but with an interpreter: the program **Python**\n",
    "\n",
    "Interpreted language caracteristics:\n",
    "- code without variable declaration\n",
    "- variable  without type : int, float, char, ...\n",
    "- code executed instruction by instruction without any compiled optimization\n",
    "\n",
    "  Interpreted language are often considered slow.\n",
    "    - code is executed instruction by instruction without any knowledge of next instructions\n",
    "    - in a loop, each iteration needs to be translated by the interpreter.\n",
    "   \n",
    "\n",
    "Despite its nature, Python still performs some optimization\n",
    "- the first time a code is executed; Python generates a .pyc file which is loaded more quickly\n",
    "- some libraries are coded in C to improve vellocity\n",
    "\n",
    "\n",
    "Example of interpreted language:\n",
    "- Unix : Shells script : sh, csh … or AWK\n",
    "- Perl (1987)\n",
    "- Ruby, Python\n",
    "-------------------------"
   ]
  },
  {
   "cell_type": "markdown",
   "metadata": {},
   "source": [
    "## Python characteristics\n",
    "- interpreted language invented by Guido van Rossum (1989)\n",
    "- an **object language** which accepts also procedures (as C):\n",
    "    - support multiple-inheritance (as C++, but not Java)\n",
    "    - managage exceptions\n",
    "    - support operator extension\n",
    "- dynamic memory management (as Java)\n",
    "- implicit variable declaration : type declaration is an option (type is available only in Python3)\n",
    "\n",
    "## Benefits of Python\n",
    "- portable language (code can be executed on different OS)\n",
    "- free: can be used without any restriction (GPL compatible) even for commercial purpose\n",
    "- a readable code: easy to read thanks to a srict syntax\n",
    "- a dynamic language still evolving\n",
    "- a hightlevel language having rich API : HTTP, Sockets, graphique (Tk), Numpy...\n",
    "- popular in astronomy: astropy, astroquery..\n",
    "-----------------------"
   ]
  },
  {
   "cell_type": "markdown",
   "metadata": {},
   "source": [
    "## Python version\n",
    "- Python2\n",
    "- Python3 : since 2008\n",
    "- Python4 : in works..\n",
    "\n",
    "### The main differences Python2 - Python3\n",
    "- *print* function needs parenthesis in Python3\n",
    "- division with 2 integers is a float in Python3\n",
    "- *input* and *range* functions behaviours are different\n",
    "- messages and syntax exceptions\n",
    "- **unicode** is accepted in Python3 (Python2 accepts ascii only): \n",
    "    ex: print('\\u00dcnic\\u00f6de'))\n",
    "- usage of *str* and *bytes* functions\n",
    "------------------"
   ]
  },
  {
   "cell_type": "markdown",
   "metadata": {},
   "source": [
    "## 2. First step !\n",
    "- 2 modes available:\n",
    "    - interactive mode: CTRL+D to exit\n",
    "    - scripts executed from a file\n",
    "    \n",
    "- Execute a Python script:\n",
    "<pre>\n",
    "python file.py\n",
    "(or) ./file.py\n",
    "</pre>\n",
    "    \n",
    "    Prerequisites:\n",
    "    \n",
    "    - script must have the executes-rights : \n",
    "        <pre>chmod +x file.py</pre>\n",
    "    - first line begining with the interpreter path:\n",
    "        <pre># !/usr/bin/python </pre>\n",
    "\n",
    "- inline Help: *help()* function"
   ]
  },
  {
   "cell_type": "code",
   "execution_count": null,
   "metadata": {},
   "outputs": [],
   "source": [
    "help(\"print\")"
   ]
  },
  {
   "cell_type": "code",
   "execution_count": null,
   "metadata": {},
   "outputs": [],
   "source": [
    "# module HELP \n",
    "help(\"sys\")"
   ]
  },
  {
   "cell_type": "markdown",
   "metadata": {},
   "source": [
    "- **Writing code**:\n",
    "\n",
    "the code is composed by instructions : expressions, loops, tests, functions...\n",
    "Instructions following a test,a loop or a function are gathering into a bloc.\n",
    "\n",
    "Blocs in Python are delimited with indentation (blanks or tabulation)"
   ]
  },
  {
   "cell_type": "code",
   "execution_count": null,
   "metadata": {},
   "outputs": [],
   "source": [
    "# a first example \n",
    "def test(a,b):\n",
    "    if a < b:\n",
    "        print(\"a is less than b\")\n",
    "        print(\"NO\")\n",
    "        return 1\n",
    "    \n",
    "    if a == b:\n",
    "        print(\"a equals b\")\n",
    "        print(\"OK\")\n",
    "        return 0\n",
    "    \n",
    "    print(\"a is greater than b\")\n",
    "    print(\"NO\")\n",
    "    return -1"
   ]
  },
  {
   "cell_type": "markdown",
   "metadata": {},
   "source": [
    "-------------------------\n",
    "## 3. Manage variables\n",
    "\n",
    "- variable are stored in computer memory (having a physical adress + uniq name)\n",
    "- Python variable are **local** per default, available in the function where it is initialized!\n",
    "\n",
    "Global variables exist also in Python, they are available in the whole code. They seems to be user-friendly, but they are not recommended (we will see why later)\n",
    "- memory is managed by Python (garbage collector as Java)\n",
    "\n",
    "### Datatype\n",
    "Type | Description\n",
    "---- | -------------\n",
    "int | integer (4octets : max = (2^8)^4)\n",
    "long | long integer (not limited in Python)\n",
    "float | float values\n",
    "str | string\n",
    "boolean | True/False\n",
    "complex | Complex values (ex: v=i+2j)\n",
    "\n",
    "*Notes:*\n",
    "- Python is dynamic, it converts automatically integer to long if needed!\n",
    "- variable initialisation **doesn't need to declare the type**: the type is automatically set by Python and the variable type is definitive!\n",
    "\n",
    "to print the type of a variable, we use the function: *type(var)*"
   ]
  },
  {
   "cell_type": "code",
   "execution_count": null,
   "metadata": {},
   "outputs": [],
   "source": [
    "i=1\n",
    "print(type(i))\n",
    "i=1.1\n",
    "type(i)"
   ]
  },
  {
   "cell_type": "code",
   "execution_count": null,
   "metadata": {},
   "outputs": [],
   "source": [
    "# example\n",
    "i = 1\n",
    "f = 3.14\n",
    "print (i)\n",
    "print(type(i))\n",
    "print (f)\n",
    "print(type(f))\n",
    "\n",
    "if True:\n",
    "    s = \"string values\"\n",
    "    print(\"s variable is only available in the bloc defined by the test section\")"
   ]
  },
  {
   "cell_type": "code",
   "execution_count": null,
   "metadata": {},
   "outputs": [],
   "source": [
    "# variable declaration with type (Python3.6)\n",
    "my_string: str = \"My String Value\"\n",
    "    "
   ]
  },
  {
   "cell_type": "markdown",
   "metadata": {},
   "source": [
    "#### other Python types\n",
    "Type | Description\n",
    "---- | -------------\n",
    "tuple | fixed *constants* list \n",
    "list | list updatable\n",
    "dict | Dictionary (HashMap)\n",
    "file | File object\n",
    "functions | functions\n",
    "... |"
   ]
  },
  {
   "cell_type": "markdown",
   "metadata": {},
   "source": [
    "-------------\n",
    "## Work with lists\n",
    "### Definition\n",
    "**list**: a set of values having the same type\n",
    "\n",
    "**collection**: a list accepting differents type\n",
    "\n",
    "Lists in Python are collection !"
   ]
  },
  {
   "cell_type": "code",
   "execution_count": null,
   "metadata": {},
   "outputs": [],
   "source": [
    "# list declaration\n",
    "liste=[1,\"string ...\", 3.14159]\n",
    "# print the list\n",
    "print (liste)\n",
    "\n",
    "# print the first element of the list (indentation starts at 0)\n",
    "print (liste[0])"
   ]
  },
  {
   "cell_type": "markdown",
   "metadata": {},
   "source": [
    "---------------\n",
    "## Operators\n",
    "- arithmetics operators:\n",
    "<pre> + - * / // (integer division) % (modulo)</pre>\n",
    "\n",
    "- binaries operators:\n",
    "    - & : AND\n",
    "    - | : OR\n",
    "    - ^ : OR exclusiv\n",
    "    - ~ : invert bits\n",
    "    - *>>* : right bit shift\n",
    "    - *<<* : left bit shift"
   ]
  },
  {
   "cell_type": "code",
   "execution_count": null,
   "metadata": {},
   "outputs": [],
   "source": [
    "# example binary operators\n",
    "print (5&3) # 5=101\n",
    "print (1<<3) # 1000 = 8"
   ]
  },
  {
   "cell_type": "markdown",
   "metadata": {},
   "source": [
    "- comparison operators:\n",
    "    - == : equal\n",
    "    - != : different\n",
    "    - < : less\n",
    "    - <= : less or equal\n",
    "    - *>* : greater\n",
    "    - *>=* : greater or equal\n",
    "    - X is Y : X and Y are the same object\n",
    "    - X is not Y: X and Y are 2 different objects\n",
    "\n",
    "- logical operators:\n",
    "    - X **or** Y : OR\n",
    "    - X **and** Y : AND\n",
    "    - **not** X : boolean value"
   ]
  },
  {
   "cell_type": "code",
   "execution_count": null,
   "metadata": {},
   "outputs": [],
   "source": [
    "# example\n",
    "x = None\n",
    "if not x:\n",
    "    print (\"undefined\")"
   ]
  },
  {
   "cell_type": "markdown",
   "metadata": {},
   "source": [
    "## 3. Language structure\n",
    "1. simple instruction\n",
    "2. test instruction\n",
    "3. functions\n",
    "\n",
    "### Simple instructions\n",
    "\n",
    "Simple instuctions gather variable declaration, expressions, input/output instructions..."
   ]
  },
  {
   "cell_type": "code",
   "execution_count": null,
   "metadata": {},
   "outputs": [],
   "source": [
    "# assignment instruction\n",
    "a = 1\n",
    "b,c = 2,3\n",
    "print (b)\n",
    "print (c)\n",
    "\n",
    "# expression\n",
    "a = a+2\n",
    "b += a"
   ]
  },
  {
   "cell_type": "markdown",
   "metadata": {},
   "source": [
    "**Input/output**:\n",
    "\n",
    "- STDIN: interact with console : funtion *input(...)* \n",
    "- STDOUT: print out:  function *print(..)*\n",
    "- STDERR: print errors \n",
    "- read/write into files, socket, ..."
   ]
  },
  {
   "cell_type": "code",
   "execution_count": null,
   "metadata": {},
   "outputs": [],
   "source": [
    "# STDOUT/STDIN interaction\n",
    "print(\"What is your name ?\")\n",
    "a = input(\"??\")\n",
    "print(a)"
   ]
  },
  {
   "cell_type": "code",
   "execution_count": null,
   "metadata": {},
   "outputs": [],
   "source": [
    "# use stderr\n",
    "import sys\n",
    "sys.stderr.write(\"error\")"
   ]
  },
  {
   "cell_type": "markdown",
   "metadata": {},
   "source": [
    "###  Test instructions\n",
    "\n",
    "A test (keywords  **if**, **else**, **elif**) is an instruction which gives access to a bloc of instructions (indented with tabulation) depending of the result of the test. "
   ]
  },
  {
   "cell_type": "code",
   "execution_count": null,
   "metadata": {},
   "outputs": [],
   "source": [
    "s = input(\"Print help?\")\n",
    "if s in (\"Y\", \"y\", \"Yes\", \"YES\", \"yes\"):\n",
    "    print (\"Help:\")\n",
    "    print(\"...blablabla...\")\n",
    "\n",
    "print (\"Good-bye\\n(This line is always executed)\")"
   ]
  },
  {
   "cell_type": "code",
   "execution_count": null,
   "metadata": {},
   "outputs": [],
   "source": [
    "# if/else example\n",
    "i = 6\n",
    "if i%2 == 0:\n",
    "    print (\"value is pair\")\n",
    "else:\n",
    "    print (\"value is not pair\")"
   ]
  },
  {
   "cell_type": "code",
   "execution_count": null,
   "metadata": {},
   "outputs": [],
   "source": [
    "# test on different values (switch/case in C)\n",
    "if i == 0:\n",
    "    print(\"null value\")\n",
    "elif i < 0:\n",
    "    print(\"negativ value\")\n",
    "else:\n",
    "    print(\"poitiv value\")"
   ]
  },
  {
   "cell_type": "markdown",
   "metadata": {},
   "source": [
    "###  Repeat  instructions\n",
    "**loops**  enables to repeat a bloc of instructions - each execution in the loop is called *iteration*\n",
    "\n",
    "Loops are used to iterate a collection or to execute a same bloc of instruction untill the test becomes false. \n",
    "\n",
    "#### The loop  'while'\n",
    "A bloc defined under a while instruction is executed \n",
    "- until the success of a test\n",
    "- a **break** instruction \n",
    "\n",
    "The full bloc is executed unless a **continue** instruction appears\n"
   ]
  },
  {
   "cell_type": "code",
   "execution_count": null,
   "metadata": {},
   "outputs": [],
   "source": [
    "a = 1\n",
    "while a < 10 :\n",
    "    print (\"a=\", a)\n",
    "    a = a+1"
   ]
  },
  {
   "cell_type": "code",
   "execution_count": null,
   "metadata": {},
   "outputs": [],
   "source": [
    "a = 0\n",
    "while True:\n",
    "    a = a+1\n",
    "    if a == 10:\n",
    "        break\n",
    "        \n",
    "    if a % 2 == 0:\n",
    "        print(\"number \",a,\" is even\")\n",
    "        continue\n",
    "        \n",
    "    print(\"number \",a,\" is odd\")"
   ]
  },
  {
   "cell_type": "markdown",
   "metadata": {},
   "source": [
    "#### The loop 'for'\n",
    "In Python the loop *for* iterates a collection:"
   ]
  },
  {
   "cell_type": "code",
   "execution_count": null,
   "metadata": {},
   "outputs": [],
   "source": [
    "mylist = (\"un\", 2, \"trois\")\n",
    "for elt in mylist:\n",
    "    print(\"element:\", elt)"
   ]
  },
  {
   "cell_type": "markdown",
   "metadata": {},
   "source": [
    "##### To iterate *n-*times - use *range(..)* function\n",
    "\n",
    "*range(n)* return a list (0,1,2,3, ...,n)"
   ]
  },
  {
   "cell_type": "code",
   "execution_count": null,
   "metadata": {},
   "outputs": [],
   "source": [
    "#example : iterate 5x\n",
    "# or using loop wile:\n",
    "print(\"loop using while\")\n",
    "i = 0\n",
    "while i < 5:\n",
    "    print(i)\n",
    "    i += 1"
   ]
  },
  {
   "cell_type": "code",
   "execution_count": null,
   "metadata": {},
   "outputs": [],
   "source": [
    "print(\"loop using range+for\")\n",
    "for i in range(5):\n",
    "    print (i)"
   ]
  },
  {
   "cell_type": "code",
   "execution_count": null,
   "metadata": {},
   "outputs": [],
   "source": [
    "print(\"loop uwing for and iterate from the 3 to 5\")\n",
    "for i in range(3,6):\n",
    "    print (i)"
   ]
  },
  {
   "cell_type": "markdown",
   "metadata": {},
   "source": [
    "### Use/write Functions\n",
    "*Functions* are similar to the mathematical definition with parameters and output result: \n",
    "\n",
    "a *function* gathers a set of instructions and can be reused anywhere in the code. \n",
    "\n",
    "- functions are usefull when a set of instructions is repeat at different state in the code\n",
    "- a function has a clear goal : this is not a simple set of instructions\n",
    "- to divide code with functions is the first step to have a **readable code**\n",
    "- a function has got a unic name which is understandable!\n",
    "- a function (as a bloc) gathers a reasonable number of instructions/lines\n",
    "\n",
    "Example of a function (declared with keyword *def*): *perimeter of a rectangle*"
   ]
  },
  {
   "cell_type": "code",
   "execution_count": null,
   "metadata": {},
   "outputs": [],
   "source": [
    "def rect_perimeter(width, length):\n",
    "    print (\"compute the rectangle perimeter\")\n",
    "    return (width+length)*2"
   ]
  },
  {
   "cell_type": "code",
   "execution_count": null,
   "metadata": {},
   "outputs": [],
   "source": [
    "#execute the function\n",
    "per = rect_perimeter(2,5)\n",
    "print (per)\n",
    "print (\"perimeter=\", rect_perimeter(2,3))"
   ]
  },
  {
   "cell_type": "markdown",
   "metadata": {},
   "source": [
    "#### What todo and what to avoid with functions ?\n",
    "Examples:\n",
    "\n",
    "Make age statistics on a star population : \n",
    "- magnitude average\n",
    "- count number of bright stars (magnitude $<$10), and faint stars (magnitude$>=$12)\n",
    "- print a message when the number of stars overpass 10."
   ]
  },
  {
   "cell_type": "code",
   "execution_count": null,
   "metadata": {},
   "outputs": [],
   "source": [
    "#Declaration of 2 populations\n",
    "starcluster1 = (5.5, 12.4, 11.5, 23.1, 11.0)\n",
    "starcluster2 = (7.7, 9.9, 11.2, 20.1, 22.1, 5.5, 14.6, 17.3, 20.9, 20.1,11.1)"
   ]
  },
  {
   "cell_type": "markdown",
   "metadata": {},
   "source": [
    "This first example is what we **should not do** !\n",
    "\n",
    "&rarr; the code computes statistics for starcluster1. we should reproduce the same code for the starcluster2"
   ]
  },
  {
   "cell_type": "code",
   "execution_count": null,
   "metadata": {},
   "outputs": [],
   "source": [
    "nfaint, nbright, total = 0, 0, 0\n",
    "summag = 0\n",
    "\n",
    "for mag in starcluster1:\n",
    "    summag += mag\n",
    "    total += 1\n",
    "    if total == 10:\n",
    "        print(\"a big cluster!\")\n",
    "        \n",
    "    if mag < 10: \n",
    "        nbright += 1\n",
    "    elif mag > 12:\n",
    "        nfaint += 1\n",
    "\n",
    "print(\"stats: bright stars=\", nbright,\n",
    "      \"faint stars=\", nfaint,\n",
    "      \"total=\",total, \n",
    "      \"magnitude avg=\", summag/total)"
   ]
  },
  {
   "cell_type": "markdown",
   "metadata": {},
   "source": [
    "The following code gathers the instructions which are repeated.\n",
    "Futhermore, the code is more readable and can be reused !\n",
    "\n",
    "\n",
    "So, we can gather the repeated code into a function"
   ]
  },
  {
   "cell_type": "code",
   "execution_count": null,
   "metadata": {},
   "outputs": [],
   "source": [
    "def star_stats(mylist):\n",
    "    nfaint, nbright, total = 0, 0, 0\n",
    "    summag = 0\n",
    "\n",
    "    for mag in mylist:\n",
    "        summag += mag\n",
    "        total += 1\n",
    "        if total == 10:\n",
    "            print(\"a big cluster!\")\n",
    "        \n",
    "        if mag < 10: \n",
    "            nbright += 1\n",
    "        elif mag > 12:\n",
    "            nfaint += 1            \n",
    "            \n",
    "    return (total, summag/total, nbright, nfaint)\n",
    "\n",
    "\n",
    "(total, avg, nbright, nfaint) = star_stats(starcluster1)\n",
    "print(\"stats: bright stars=\", nbright,\n",
    "      \"faint stars=\", nfaint,\n",
    "      \"total=\",total, \n",
    "      \"magnitude avg=\", avg)\n",
    "\n",
    "(total, avg, nbright, nfaint) = star_stats(starcluster2)\n",
    "print(\"stats: bright stars=\", nbright,\n",
    "      \"faint stars=\", nfaint,\n",
    "      \"total=\",total, \n",
    "      \"magnitude avg=\", avg)\n"
   ]
  },
  {
   "cell_type": "markdown",
   "metadata": {},
   "source": [
    "In the last function *star_starts* prints a message when population overpasses a limit and returns statistics.\n",
    "\n",
    "This is 2 different things which could be separated. \n",
    "Furthermore, the limits are static.\n",
    "\n"
   ]
  },
  {
   "cell_type": "code",
   "execution_count": null,
   "metadata": {},
   "outputs": [],
   "source": [
    "def star_stats(mylist, limit_bright, limit_faint):\n",
    "    nfaint, nbright, total = 0, 0, 0\n",
    "    summag = 0\n",
    "\n",
    "    for mag in mylist:\n",
    "        summag += mag\n",
    "        total += 1\n",
    "        \n",
    "        if mag < limit_bright: \n",
    "            nbright += 1\n",
    "        elif mag > limit_faint:\n",
    "            nfaint += 1           \n",
    "            \n",
    "    return (total, summag/total, nbright, nfaint)\n",
    "\n",
    "LIMIT_BRIGHT = 10\n",
    "LIMIT_FAINT = 20\n",
    "LIMIT_BIG_CLUSTER = 10\n",
    "\n",
    "(total, avg, nbright, nfaint) = star_stats(starcluster1, LIMIT_BRIGHT, LIMIT_FAINT)\n",
    "if total > LIMIT_BIG_CLUSTER:\n",
    "    print (\"cluster1 is a big cluster\")\n",
    "print(\"stats: bright stars=\", nbright,\n",
    "      \"faint stars=\", nfaint,\n",
    "      \"total=\",total, \n",
    "      \"magnitude avg=\", avg)\n",
    "\n",
    "(total, avg, nbright, nfaint) = star_stats(starcluster2, LIMIT_BRIGHT, LIMIT_FAINT)\n",
    "if total > LIMIT_BIG_CLUSTER:\n",
    "    print (\"cluster2 is a big cluster\")\n",
    "print(\"stats: bright stars=\", nbright,\n",
    "      \"faint stars=\", nfaint,\n",
    "      \"total=\",total, \n",
    "      \"magnitude avg=\", avg)"
   ]
  },
  {
   "cell_type": "markdown",
   "metadata": {
    "collapsed": true
   },
   "source": [
    "#### Use optional parameter in a function"
   ]
  },
  {
   "cell_type": "code",
   "execution_count": null,
   "metadata": {},
   "outputs": [],
   "source": [
    "def welcome ( name='XXX' , surname='xxx') :\n",
    "    print (\"Hello\", name , surname)\n",
    "\n",
    "welcome('gilles', 'landais')\n",
    "welcome('gilles')\n",
    "welcome(surname='landais')"
   ]
  },
  {
   "cell_type": "markdown",
   "metadata": {},
   "source": [
    "#### Parameters in function are given by value\n",
    "\n",
    "The parameters of the function are given by value, consequently they are **not** modified in the function"
   ]
  },
  {
   "cell_type": "code",
   "execution_count": null,
   "metadata": {},
   "outputs": [],
   "source": [
    "def double (value) :\n",
    "    value = value*2\n",
    "    print (\"double=\", value)\n",
    "\n",
    "val = 2\n",
    "double(val)\n",
    "print (\"val=\", val)"
   ]
  },
  {
   "cell_type": "code",
   "execution_count": null,
   "metadata": {},
   "outputs": [],
   "source": [
    "def double(value):\n",
    "    return value*2\n",
    "\n",
    "val = 2\n",
    "print (\"val=\", double(val))"
   ]
  },
  {
   "cell_type": "code",
   "execution_count": null,
   "metadata": {},
   "outputs": [],
   "source": [
    "liste=(1,2,3,4)\n",
    "i=0\n",
    "while i<len(liste):\n",
    "    print (liste[i])\n",
    "    i+=1"
   ]
  },
  {
   "cell_type": "markdown",
   "metadata": {},
   "source": [
    "# Comment the code\n",
    "\n",
    "Python proposes an inline documentation with help function. The idea consists to add the comment/help in the code."
   ]
  },
  {
   "cell_type": "code",
   "execution_count": null,
   "metadata": {},
   "outputs": [],
   "source": [
    "''' Documentation in Python is delimited by 3*quotes\n",
    "'''\n",
    "\n",
    "# example of comment\n",
    "def square(val):\n",
    "    '''compute the square value\n",
    "    :param val:  value in input\n",
    "    :return: the result val*val\n",
    "    '''\n",
    "    return val*val\n",
    "\n",
    "help(\"square\")   #-  help function defined in the notebook are not available"
   ]
  },
  {
   "cell_type": "markdown",
   "metadata": {},
   "source": [
    "## 4. Working with Strings\n",
    "\n",
    "- concatenate 2 strings"
   ]
  },
  {
   "cell_type": "code",
   "execution_count": null,
   "metadata": {},
   "outputs": [],
   "source": [
    "string1 = \"first string\"\n",
    "string2 = \"second string\"\n",
    "s = string1 + string2\n",
    "print(s)"
   ]
  },
  {
   "cell_type": "code",
   "execution_count": null,
   "metadata": {},
   "outputs": [],
   "source": [
    "s = string1 +\" \"+1 # generate error because we can't concatenate String with other type"
   ]
  },
  {
   "cell_type": "code",
   "execution_count": null,
   "metadata": {},
   "outputs": [],
   "source": [
    "s = string1 + \" \" + str(1)  # True - the str function convert integer to string\n",
    "print (s)"
   ]
  },
  {
   "cell_type": "markdown",
   "metadata": {},
   "source": [
    "- a String is an *Object* in Python. They have got methods (=function)\n",
    "- Methods examples available for strings :\n",
    "\n",
    "| Fonction | Description |\n",
    "| ----| ---- |\n",
    "|string.lower()| lower case|\n",
    "|string.upper()| upper case |\n",
    "|string.split(text)| split a string to a list os strings in function of a text|\n",
    "|string.find(text) | search a substring (return a number) |\n",
    "|string.replace(text,newtext)| replace a substring in a string to an other|"
   ]
  },
  {
   "cell_type": "code",
   "execution_count": null,
   "metadata": {},
   "outputs": [],
   "source": [
    "s=\"un,deux,trois\"\n",
    "l=s.split(',')\n",
    "print (l)\n",
    "print(type(l))"
   ]
  },
  {
   "cell_type": "code",
   "execution_count": null,
   "metadata": {},
   "outputs": [],
   "source": [
    "a = \"un deux trois\"\n",
    "size = len(a)\n",
    "\n",
    "a = \"1234\"\n",
    "i = int(a)\n",
    "type(i)"
   ]
  },
  {
   "cell_type": "markdown",
   "metadata": {},
   "source": [
    "#### extract a char or a substring of a string"
   ]
  },
  {
   "cell_type": "code",
   "execution_count": null,
   "metadata": {},
   "outputs": [],
   "source": [
    "a = \"un deux trois\"\n",
    "size = len(a)\n",
    "\n",
    "for i in range(size):\n",
    "    print (\"char (\"+str(i)+\")=\"+a[i])\n",
    "\n",
    "print (\"substring=\"+a[3:5])"
   ]
  },
  {
   "cell_type": "markdown",
   "metadata": {},
   "source": [
    "#### Format the output\n",
    "Specify how to format a string:\n",
    "- real number: how many digits\n",
    "- print in hexadecimal\n",
    "- align strings with blanks\n",
    "...\n",
    "\n",
    "The format syntax is based on the C-printf syntax:\n",
    "\n",
    "\n",
    "| Format | Description | \n",
    "| --- | --- |\n",
    "|%d| print an integer|\n",
    "| %02d | print integer on 2 digit and add 0 if needed (ex 01)|\n",
    "|%s | print a string|\n",
    "|%f | print a float|\n",
    "|%.3f | print a float with 3 digits after the dot|\n",
    "|%c | print 1 character|\n",
    "|%x | print integer in hexadecima|"
   ]
  },
  {
   "cell_type": "code",
   "execution_count": null,
   "metadata": {},
   "outputs": [],
   "source": [
    "# example\n",
    "import math\n",
    "print (\"The value of Pi %.2f\" % math.pi)"
   ]
  },
  {
   "cell_type": "markdown",
   "metadata": {},
   "source": [
    "#### the format method"
   ]
  },
  {
   "cell_type": "code",
   "execution_count": null,
   "metadata": {},
   "outputs": [],
   "source": [
    "import math\n",
    "\n",
    "s = \"circle perimeter=2*{}*{:.2f}\".format(\"radius\",math.pi)\n",
    "print (s)\n",
    "\n",
    "# text alignment\n",
    "data = [(1.1, 'value1'), (1.2345, 'value2')]\n",
    "for record in data:\n",
    "    print (record[0], record[1])\n",
    "    \n",
    "for record in data:\n",
    "    print (\"{0:6.4f},{1:>15}\".format(record[0], record[1]))"
   ]
  },
  {
   "cell_type": "markdown",
   "metadata": {},
   "source": [
    "------------------------------------\n",
    "# TP1: build a geometric suite\n",
    "\n",
    "- Make a function which computes values of a geometric suite.\n",
    "\n",
    "The value $v_{0}$ and $q$ are given in parameter\n",
    "\n",
    "$v_{n} = v_{0}*q^{n}$\n",
    "- Make a recursiv function to do the same: $v_{n}=v_{n-1}*q$ \n",
    "- Print the 10 first values"
   ]
  },
  {
   "cell_type": "markdown",
   "metadata": {},
   "source": [
    "# TP2 : Compute the values of a geometric series\n",
    "\n",
    "$V(n)=\\sum_{i=0}^{i=n}v(i)$\n",
    "\n",
    "- Make a geometric series function which uses the function of TP1 and print the result\n",
    "- Make a similar function but optimized (without using the TP1 function) and compare the result:\n",
    "ex V(5000) with $v_{0}$=2 and $q$=3"
   ]
  },
  {
   "cell_type": "markdown",
   "metadata": {},
   "source": [
    "# TP3: Make an array of random floats\n",
    "\n",
    "- Make a function which create a list of ranomized floats\n",
    "\n",
    "To do it, it need to import the module 'random' with adding the instruction in the begining of the code:\n",
    "\n",
    "**import** **random**\n",
    "\n",
    "Then, fill the array using the function **random.uniform** (see help(random)).\n",
    "\n",
    "- make a function that returns the integer repartition resulting of the int value of the floats\n",
    "\n",
    "Example: tab = [1.1 ,3.2, 3.1, 2.1, 5.5, 1.9] \n",
    "\n",
    "|between 0..1|between 1..2|between 2..3|between 3..4|between 4..5|between 5..6|\n",
    "|---|---|---|---|---|---|\n",
    "|0| 2| 1| 1| 0| 1|\n"
   ]
  },
  {
   "cell_type": "code",
   "execution_count": null,
   "metadata": {},
   "outputs": [],
   "source": []
  }
 ],
 "metadata": {
  "kernelspec": {
   "display_name": "Python 3",
   "language": "python",
   "name": "python3"
  },
  "language_info": {
   "codemirror_mode": {
    "name": "ipython",
    "version": 3
   },
   "file_extension": ".py",
   "mimetype": "text/x-python",
   "name": "python",
   "nbconvert_exporter": "python",
   "pygments_lexer": "ipython3",
   "version": "3.5.6"
  }
 },
 "nbformat": 4,
 "nbformat_minor": 2
}
